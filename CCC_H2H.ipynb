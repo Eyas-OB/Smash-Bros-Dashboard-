{
 "cells": [
  {
   "cell_type": "code",
   "execution_count": 1,
   "metadata": {},
   "outputs": [],
   "source": [
    "import os\n",
    "\n",
    "import pandas as pd  \n",
    "\n",
    "import seaborn as sns \n",
    "\n",
    "import matplotlib.pylab as plt\n",
    "\n",
    "import plotly.express as px"
   ]
  },
  {
   "cell_type": "code",
   "execution_count": 2,
   "metadata": {},
   "outputs": [
    {
     "data": {
      "text/html": [
       "<div>\n",
       "<style scoped>\n",
       "    .dataframe tbody tr th:only-of-type {\n",
       "        vertical-align: middle;\n",
       "    }\n",
       "\n",
       "    .dataframe tbody tr th {\n",
       "        vertical-align: top;\n",
       "    }\n",
       "\n",
       "    .dataframe thead th {\n",
       "        text-align: right;\n",
       "    }\n",
       "</style>\n",
       "<table border=\"1\" class=\"dataframe\">\n",
       "  <thead>\n",
       "    <tr style=\"text-align: right;\">\n",
       "      <th></th>\n",
       "      <th>Players</th>\n",
       "      <th>Samurai</th>\n",
       "      <th>Eyas</th>\n",
       "      <th>Sophist</th>\n",
       "      <th>Kaiju</th>\n",
       "      <th>ICHIGO</th>\n",
       "      <th>CHICO</th>\n",
       "      <th>Pidgeon</th>\n",
       "      <th>Shinta</th>\n",
       "      <th>TheDood22</th>\n",
       "      <th>Cal</th>\n",
       "      <th>mjmd</th>\n",
       "      <th>bellyache</th>\n",
       "      <th>DrMichaelBay</th>\n",
       "      <th>Frog Lady</th>\n",
       "      <th>Thumbs</th>\n",
       "    </tr>\n",
       "  </thead>\n",
       "  <tbody>\n",
       "    <tr>\n",
       "      <th>0</th>\n",
       "      <td>Samurai</td>\n",
       "      <td>0</td>\n",
       "      <td>3</td>\n",
       "      <td>1</td>\n",
       "      <td>4</td>\n",
       "      <td>6</td>\n",
       "      <td>-3</td>\n",
       "      <td>1</td>\n",
       "      <td>3</td>\n",
       "      <td>2</td>\n",
       "      <td>1</td>\n",
       "      <td>2</td>\n",
       "      <td>1</td>\n",
       "      <td>2</td>\n",
       "      <td>1</td>\n",
       "      <td>4</td>\n",
       "    </tr>\n",
       "    <tr>\n",
       "      <th>1</th>\n",
       "      <td>Eyas</td>\n",
       "      <td>-3</td>\n",
       "      <td>0</td>\n",
       "      <td>4</td>\n",
       "      <td>4</td>\n",
       "      <td>0</td>\n",
       "      <td>4</td>\n",
       "      <td>0</td>\n",
       "      <td>1</td>\n",
       "      <td>-1</td>\n",
       "      <td>1</td>\n",
       "      <td>2</td>\n",
       "      <td>3</td>\n",
       "      <td>1</td>\n",
       "      <td>1</td>\n",
       "      <td>5</td>\n",
       "    </tr>\n",
       "    <tr>\n",
       "      <th>2</th>\n",
       "      <td>Sophist</td>\n",
       "      <td>-1</td>\n",
       "      <td>-4</td>\n",
       "      <td>0</td>\n",
       "      <td>-4</td>\n",
       "      <td>4</td>\n",
       "      <td>1</td>\n",
       "      <td>1</td>\n",
       "      <td>5</td>\n",
       "      <td>3</td>\n",
       "      <td>5</td>\n",
       "      <td>1</td>\n",
       "      <td>4</td>\n",
       "      <td>1</td>\n",
       "      <td>0</td>\n",
       "      <td>1</td>\n",
       "    </tr>\n",
       "    <tr>\n",
       "      <th>3</th>\n",
       "      <td>Kaiju</td>\n",
       "      <td>-4</td>\n",
       "      <td>-4</td>\n",
       "      <td>4</td>\n",
       "      <td>0</td>\n",
       "      <td>-2</td>\n",
       "      <td>1</td>\n",
       "      <td>0</td>\n",
       "      <td>2</td>\n",
       "      <td>1</td>\n",
       "      <td>5</td>\n",
       "      <td>0</td>\n",
       "      <td>1</td>\n",
       "      <td>1</td>\n",
       "      <td>0</td>\n",
       "      <td>1</td>\n",
       "    </tr>\n",
       "    <tr>\n",
       "      <th>4</th>\n",
       "      <td>ICHIGO</td>\n",
       "      <td>-6</td>\n",
       "      <td>0</td>\n",
       "      <td>-4</td>\n",
       "      <td>2</td>\n",
       "      <td>0</td>\n",
       "      <td>0</td>\n",
       "      <td>-1</td>\n",
       "      <td>0</td>\n",
       "      <td>3</td>\n",
       "      <td>1</td>\n",
       "      <td>3</td>\n",
       "      <td>3</td>\n",
       "      <td>2</td>\n",
       "      <td>0</td>\n",
       "      <td>1</td>\n",
       "    </tr>\n",
       "  </tbody>\n",
       "</table>\n",
       "</div>"
      ],
      "text/plain": [
       "   Players   Samurai   Eyas   Sophist   Kaiju   ICHIGO   CHICO   Pidgeon  \\\n",
       "0  Samurai         0      3         1       4        6      -3         1   \n",
       "1     Eyas        -3      0         4       4        0       4         0   \n",
       "2  Sophist        -1     -4         0      -4        4       1         1   \n",
       "3    Kaiju        -4     -4         4       0       -2       1         0   \n",
       "4   ICHIGO        -6      0        -4       2        0       0        -1   \n",
       "\n",
       "    Shinta   TheDood22   Cal   mjmd   bellyache   DrMichaelBay   Frog Lady  \\\n",
       "0        3           2     1      2           1              2           1   \n",
       "1        1          -1     1      2           3              1           1   \n",
       "2        5           3     5      1           4              1           0   \n",
       "3        2           1     5      0           1              1           0   \n",
       "4        0           3     1      3           3              2           0   \n",
       "\n",
       "    Thumbs  \n",
       "0        4  \n",
       "1        5  \n",
       "2        1  \n",
       "3        1  \n",
       "4        1  "
      ]
     },
     "execution_count": 2,
     "metadata": {},
     "output_type": "execute_result"
    }
   ],
   "source": [
    "import pandas as pd\n",
    "\n",
    "file_path = \"C:\\\\Users\\\\eyas1\\\\OneDrive\\\\Desktop\\\\UWM fall 2023 Smash Data\\\\CCC_H2H.csv\"\n",
    "\n",
    "df = pd.read_csv(file_path)\n",
    "\n",
    "df.head()"
   ]
  },
  {
   "cell_type": "code",
   "execution_count": 3,
   "metadata": {},
   "outputs": [
    {
     "data": {
      "application/vnd.plotly.v1+json": {
       "config": {
        "plotlyServerURL": "https://plot.ly"
       },
       "data": [
        {
         "coloraxis": "coloraxis",
         "hovertemplate": "Player: %{y}<br>Opponent: %{x}<br>Score: %{z}<extra></extra>",
         "name": "0",
         "type": "heatmap",
         "x": [
          " Samurai",
          " Eyas",
          " Sophist",
          " Kaiju",
          " ICHIGO",
          " CHICO",
          " Pidgeon",
          " Shinta",
          " TheDood22",
          " Cal",
          " mjmd",
          " bellyache",
          " DrMichaelBay",
          " Frog Lady",
          " Thumbs"
         ],
         "xaxis": "x",
         "y": [
          "Samurai",
          "Eyas",
          "Sophist",
          "Kaiju",
          "ICHIGO",
          "CHICO",
          "Pidgeon",
          "Shinta",
          "TheDood22",
          "Cal"
         ],
         "yaxis": "y",
         "z": [
          [
           0,
           3,
           1,
           4,
           6,
           -3,
           1,
           3,
           2,
           1,
           2,
           1,
           2,
           1,
           4
          ],
          [
           -3,
           0,
           4,
           4,
           0,
           4,
           0,
           1,
           -1,
           1,
           2,
           3,
           1,
           1,
           5
          ],
          [
           -1,
           -4,
           0,
           -4,
           4,
           1,
           1,
           5,
           3,
           5,
           1,
           4,
           1,
           0,
           1
          ],
          [
           -4,
           -4,
           4,
           0,
           -2,
           1,
           0,
           2,
           1,
           5,
           0,
           1,
           1,
           0,
           1
          ],
          [
           -6,
           0,
           -4,
           2,
           0,
           0,
           -1,
           0,
           3,
           1,
           3,
           3,
           2,
           0,
           1
          ],
          [
           3,
           -4,
           -1,
           -1,
           0,
           0,
           2,
           0,
           0,
           1,
           1,
           2,
           0,
           0,
           1
          ],
          [
           -1,
           0,
           -1,
           0,
           1,
           -2,
           0,
           0,
           0,
           0,
           1,
           1,
           0,
           0,
           1
          ],
          [
           -3,
           -1,
           -5,
           -2,
           0,
           0,
           0,
           0,
           4,
           2,
           -1,
           1,
           0,
           0,
           0
          ],
          [
           -2,
           1,
           -3,
           -1,
           -3,
           0,
           0,
           -4,
           0,
           -2,
           -2,
           2,
           0,
           2,
           4
          ],
          [
           -1,
           -1,
           -5,
           -5,
           -1,
           -1,
           0,
           -2,
           2,
           0,
           1,
           1,
           2,
           2,
           3
          ]
         ]
        }
       ],
       "layout": {
        "coloraxis": {
         "colorscale": [
          [
           0,
           "rgb(5,48,97)"
          ],
          [
           0.1,
           "rgb(33,102,172)"
          ],
          [
           0.2,
           "rgb(67,147,195)"
          ],
          [
           0.3,
           "rgb(146,197,222)"
          ],
          [
           0.4,
           "rgb(209,229,240)"
          ],
          [
           0.5,
           "rgb(247,247,247)"
          ],
          [
           0.6,
           "rgb(253,219,199)"
          ],
          [
           0.7,
           "rgb(244,165,130)"
          ],
          [
           0.8,
           "rgb(214,96,77)"
          ],
          [
           0.9,
           "rgb(178,24,43)"
          ],
          [
           1,
           "rgb(103,0,31)"
          ]
         ]
        },
        "margin": {
         "t": 60
        },
        "template": {
         "data": {
          "bar": [
           {
            "error_x": {
             "color": "#f2f5fa"
            },
            "error_y": {
             "color": "#f2f5fa"
            },
            "marker": {
             "line": {
              "color": "rgb(17,17,17)",
              "width": 0.5
             },
             "pattern": {
              "fillmode": "overlay",
              "size": 10,
              "solidity": 0.2
             }
            },
            "type": "bar"
           }
          ],
          "barpolar": [
           {
            "marker": {
             "line": {
              "color": "rgb(17,17,17)",
              "width": 0.5
             },
             "pattern": {
              "fillmode": "overlay",
              "size": 10,
              "solidity": 0.2
             }
            },
            "type": "barpolar"
           }
          ],
          "carpet": [
           {
            "aaxis": {
             "endlinecolor": "#A2B1C6",
             "gridcolor": "#506784",
             "linecolor": "#506784",
             "minorgridcolor": "#506784",
             "startlinecolor": "#A2B1C6"
            },
            "baxis": {
             "endlinecolor": "#A2B1C6",
             "gridcolor": "#506784",
             "linecolor": "#506784",
             "minorgridcolor": "#506784",
             "startlinecolor": "#A2B1C6"
            },
            "type": "carpet"
           }
          ],
          "choropleth": [
           {
            "colorbar": {
             "outlinewidth": 0,
             "ticks": ""
            },
            "type": "choropleth"
           }
          ],
          "contour": [
           {
            "colorbar": {
             "outlinewidth": 0,
             "ticks": ""
            },
            "colorscale": [
             [
              0,
              "#0d0887"
             ],
             [
              0.1111111111111111,
              "#46039f"
             ],
             [
              0.2222222222222222,
              "#7201a8"
             ],
             [
              0.3333333333333333,
              "#9c179e"
             ],
             [
              0.4444444444444444,
              "#bd3786"
             ],
             [
              0.5555555555555556,
              "#d8576b"
             ],
             [
              0.6666666666666666,
              "#ed7953"
             ],
             [
              0.7777777777777778,
              "#fb9f3a"
             ],
             [
              0.8888888888888888,
              "#fdca26"
             ],
             [
              1,
              "#f0f921"
             ]
            ],
            "type": "contour"
           }
          ],
          "contourcarpet": [
           {
            "colorbar": {
             "outlinewidth": 0,
             "ticks": ""
            },
            "type": "contourcarpet"
           }
          ],
          "heatmap": [
           {
            "colorbar": {
             "outlinewidth": 0,
             "ticks": ""
            },
            "colorscale": [
             [
              0,
              "#0d0887"
             ],
             [
              0.1111111111111111,
              "#46039f"
             ],
             [
              0.2222222222222222,
              "#7201a8"
             ],
             [
              0.3333333333333333,
              "#9c179e"
             ],
             [
              0.4444444444444444,
              "#bd3786"
             ],
             [
              0.5555555555555556,
              "#d8576b"
             ],
             [
              0.6666666666666666,
              "#ed7953"
             ],
             [
              0.7777777777777778,
              "#fb9f3a"
             ],
             [
              0.8888888888888888,
              "#fdca26"
             ],
             [
              1,
              "#f0f921"
             ]
            ],
            "type": "heatmap"
           }
          ],
          "heatmapgl": [
           {
            "colorbar": {
             "outlinewidth": 0,
             "ticks": ""
            },
            "colorscale": [
             [
              0,
              "#0d0887"
             ],
             [
              0.1111111111111111,
              "#46039f"
             ],
             [
              0.2222222222222222,
              "#7201a8"
             ],
             [
              0.3333333333333333,
              "#9c179e"
             ],
             [
              0.4444444444444444,
              "#bd3786"
             ],
             [
              0.5555555555555556,
              "#d8576b"
             ],
             [
              0.6666666666666666,
              "#ed7953"
             ],
             [
              0.7777777777777778,
              "#fb9f3a"
             ],
             [
              0.8888888888888888,
              "#fdca26"
             ],
             [
              1,
              "#f0f921"
             ]
            ],
            "type": "heatmapgl"
           }
          ],
          "histogram": [
           {
            "marker": {
             "pattern": {
              "fillmode": "overlay",
              "size": 10,
              "solidity": 0.2
             }
            },
            "type": "histogram"
           }
          ],
          "histogram2d": [
           {
            "colorbar": {
             "outlinewidth": 0,
             "ticks": ""
            },
            "colorscale": [
             [
              0,
              "#0d0887"
             ],
             [
              0.1111111111111111,
              "#46039f"
             ],
             [
              0.2222222222222222,
              "#7201a8"
             ],
             [
              0.3333333333333333,
              "#9c179e"
             ],
             [
              0.4444444444444444,
              "#bd3786"
             ],
             [
              0.5555555555555556,
              "#d8576b"
             ],
             [
              0.6666666666666666,
              "#ed7953"
             ],
             [
              0.7777777777777778,
              "#fb9f3a"
             ],
             [
              0.8888888888888888,
              "#fdca26"
             ],
             [
              1,
              "#f0f921"
             ]
            ],
            "type": "histogram2d"
           }
          ],
          "histogram2dcontour": [
           {
            "colorbar": {
             "outlinewidth": 0,
             "ticks": ""
            },
            "colorscale": [
             [
              0,
              "#0d0887"
             ],
             [
              0.1111111111111111,
              "#46039f"
             ],
             [
              0.2222222222222222,
              "#7201a8"
             ],
             [
              0.3333333333333333,
              "#9c179e"
             ],
             [
              0.4444444444444444,
              "#bd3786"
             ],
             [
              0.5555555555555556,
              "#d8576b"
             ],
             [
              0.6666666666666666,
              "#ed7953"
             ],
             [
              0.7777777777777778,
              "#fb9f3a"
             ],
             [
              0.8888888888888888,
              "#fdca26"
             ],
             [
              1,
              "#f0f921"
             ]
            ],
            "type": "histogram2dcontour"
           }
          ],
          "mesh3d": [
           {
            "colorbar": {
             "outlinewidth": 0,
             "ticks": ""
            },
            "type": "mesh3d"
           }
          ],
          "parcoords": [
           {
            "line": {
             "colorbar": {
              "outlinewidth": 0,
              "ticks": ""
             }
            },
            "type": "parcoords"
           }
          ],
          "pie": [
           {
            "automargin": true,
            "type": "pie"
           }
          ],
          "scatter": [
           {
            "marker": {
             "line": {
              "color": "#283442"
             }
            },
            "type": "scatter"
           }
          ],
          "scatter3d": [
           {
            "line": {
             "colorbar": {
              "outlinewidth": 0,
              "ticks": ""
             }
            },
            "marker": {
             "colorbar": {
              "outlinewidth": 0,
              "ticks": ""
             }
            },
            "type": "scatter3d"
           }
          ],
          "scattercarpet": [
           {
            "marker": {
             "colorbar": {
              "outlinewidth": 0,
              "ticks": ""
             }
            },
            "type": "scattercarpet"
           }
          ],
          "scattergeo": [
           {
            "marker": {
             "colorbar": {
              "outlinewidth": 0,
              "ticks": ""
             }
            },
            "type": "scattergeo"
           }
          ],
          "scattergl": [
           {
            "marker": {
             "line": {
              "color": "#283442"
             }
            },
            "type": "scattergl"
           }
          ],
          "scattermapbox": [
           {
            "marker": {
             "colorbar": {
              "outlinewidth": 0,
              "ticks": ""
             }
            },
            "type": "scattermapbox"
           }
          ],
          "scatterpolar": [
           {
            "marker": {
             "colorbar": {
              "outlinewidth": 0,
              "ticks": ""
             }
            },
            "type": "scatterpolar"
           }
          ],
          "scatterpolargl": [
           {
            "marker": {
             "colorbar": {
              "outlinewidth": 0,
              "ticks": ""
             }
            },
            "type": "scatterpolargl"
           }
          ],
          "scatterternary": [
           {
            "marker": {
             "colorbar": {
              "outlinewidth": 0,
              "ticks": ""
             }
            },
            "type": "scatterternary"
           }
          ],
          "surface": [
           {
            "colorbar": {
             "outlinewidth": 0,
             "ticks": ""
            },
            "colorscale": [
             [
              0,
              "#0d0887"
             ],
             [
              0.1111111111111111,
              "#46039f"
             ],
             [
              0.2222222222222222,
              "#7201a8"
             ],
             [
              0.3333333333333333,
              "#9c179e"
             ],
             [
              0.4444444444444444,
              "#bd3786"
             ],
             [
              0.5555555555555556,
              "#d8576b"
             ],
             [
              0.6666666666666666,
              "#ed7953"
             ],
             [
              0.7777777777777778,
              "#fb9f3a"
             ],
             [
              0.8888888888888888,
              "#fdca26"
             ],
             [
              1,
              "#f0f921"
             ]
            ],
            "type": "surface"
           }
          ],
          "table": [
           {
            "cells": {
             "fill": {
              "color": "#506784"
             },
             "line": {
              "color": "rgb(17,17,17)"
             }
            },
            "header": {
             "fill": {
              "color": "#2a3f5f"
             },
             "line": {
              "color": "rgb(17,17,17)"
             }
            },
            "type": "table"
           }
          ]
         },
         "layout": {
          "annotationdefaults": {
           "arrowcolor": "#f2f5fa",
           "arrowhead": 0,
           "arrowwidth": 1
          },
          "autotypenumbers": "strict",
          "coloraxis": {
           "colorbar": {
            "outlinewidth": 0,
            "ticks": ""
           }
          },
          "colorscale": {
           "diverging": [
            [
             0,
             "#8e0152"
            ],
            [
             0.1,
             "#c51b7d"
            ],
            [
             0.2,
             "#de77ae"
            ],
            [
             0.3,
             "#f1b6da"
            ],
            [
             0.4,
             "#fde0ef"
            ],
            [
             0.5,
             "#f7f7f7"
            ],
            [
             0.6,
             "#e6f5d0"
            ],
            [
             0.7,
             "#b8e186"
            ],
            [
             0.8,
             "#7fbc41"
            ],
            [
             0.9,
             "#4d9221"
            ],
            [
             1,
             "#276419"
            ]
           ],
           "sequential": [
            [
             0,
             "#0d0887"
            ],
            [
             0.1111111111111111,
             "#46039f"
            ],
            [
             0.2222222222222222,
             "#7201a8"
            ],
            [
             0.3333333333333333,
             "#9c179e"
            ],
            [
             0.4444444444444444,
             "#bd3786"
            ],
            [
             0.5555555555555556,
             "#d8576b"
            ],
            [
             0.6666666666666666,
             "#ed7953"
            ],
            [
             0.7777777777777778,
             "#fb9f3a"
            ],
            [
             0.8888888888888888,
             "#fdca26"
            ],
            [
             1,
             "#f0f921"
            ]
           ],
           "sequentialminus": [
            [
             0,
             "#0d0887"
            ],
            [
             0.1111111111111111,
             "#46039f"
            ],
            [
             0.2222222222222222,
             "#7201a8"
            ],
            [
             0.3333333333333333,
             "#9c179e"
            ],
            [
             0.4444444444444444,
             "#bd3786"
            ],
            [
             0.5555555555555556,
             "#d8576b"
            ],
            [
             0.6666666666666666,
             "#ed7953"
            ],
            [
             0.7777777777777778,
             "#fb9f3a"
            ],
            [
             0.8888888888888888,
             "#fdca26"
            ],
            [
             1,
             "#f0f921"
            ]
           ]
          },
          "colorway": [
           "#636efa",
           "#EF553B",
           "#00cc96",
           "#ab63fa",
           "#FFA15A",
           "#19d3f3",
           "#FF6692",
           "#B6E880",
           "#FF97FF",
           "#FECB52"
          ],
          "font": {
           "color": "#f2f5fa"
          },
          "geo": {
           "bgcolor": "rgb(17,17,17)",
           "lakecolor": "rgb(17,17,17)",
           "landcolor": "rgb(17,17,17)",
           "showlakes": true,
           "showland": true,
           "subunitcolor": "#506784"
          },
          "hoverlabel": {
           "align": "left"
          },
          "hovermode": "closest",
          "mapbox": {
           "style": "dark"
          },
          "paper_bgcolor": "rgb(17,17,17)",
          "plot_bgcolor": "rgb(17,17,17)",
          "polar": {
           "angularaxis": {
            "gridcolor": "#506784",
            "linecolor": "#506784",
            "ticks": ""
           },
           "bgcolor": "rgb(17,17,17)",
           "radialaxis": {
            "gridcolor": "#506784",
            "linecolor": "#506784",
            "ticks": ""
           }
          },
          "scene": {
           "xaxis": {
            "backgroundcolor": "rgb(17,17,17)",
            "gridcolor": "#506784",
            "gridwidth": 2,
            "linecolor": "#506784",
            "showbackground": true,
            "ticks": "",
            "zerolinecolor": "#C8D4E3"
           },
           "yaxis": {
            "backgroundcolor": "rgb(17,17,17)",
            "gridcolor": "#506784",
            "gridwidth": 2,
            "linecolor": "#506784",
            "showbackground": true,
            "ticks": "",
            "zerolinecolor": "#C8D4E3"
           },
           "zaxis": {
            "backgroundcolor": "rgb(17,17,17)",
            "gridcolor": "#506784",
            "gridwidth": 2,
            "linecolor": "#506784",
            "showbackground": true,
            "ticks": "",
            "zerolinecolor": "#C8D4E3"
           }
          },
          "shapedefaults": {
           "line": {
            "color": "#f2f5fa"
           }
          },
          "sliderdefaults": {
           "bgcolor": "#C8D4E3",
           "bordercolor": "rgb(17,17,17)",
           "borderwidth": 1,
           "tickwidth": 0
          },
          "ternary": {
           "aaxis": {
            "gridcolor": "#506784",
            "linecolor": "#506784",
            "ticks": ""
           },
           "baxis": {
            "gridcolor": "#506784",
            "linecolor": "#506784",
            "ticks": ""
           },
           "bgcolor": "rgb(17,17,17)",
           "caxis": {
            "gridcolor": "#506784",
            "linecolor": "#506784",
            "ticks": ""
           }
          },
          "title": {
           "x": 0.05
          },
          "updatemenudefaults": {
           "bgcolor": "#506784",
           "borderwidth": 0
          },
          "xaxis": {
           "automargin": true,
           "gridcolor": "#283442",
           "linecolor": "#506784",
           "ticks": "",
           "title": {
            "standoff": 15
           },
           "zerolinecolor": "#283442",
           "zerolinewidth": 2
          },
          "yaxis": {
           "automargin": true,
           "gridcolor": "#283442",
           "linecolor": "#506784",
           "ticks": "",
           "title": {
            "standoff": 15
           },
           "zerolinecolor": "#283442",
           "zerolinewidth": 2
          }
         }
        },
        "title": {
         "text": "Cream City Clash Head To Head Heat Map"
        },
        "xaxis": {
         "anchor": "y",
         "constrain": "domain",
         "domain": [
          0,
          1
         ],
         "scaleanchor": "y",
         "side": "top",
         "tickangle": -45,
         "title": {
          "text": "Opponent"
         }
        },
        "yaxis": {
         "anchor": "x",
         "autorange": "reversed",
         "categoryorder": "total descending",
         "constrain": "domain",
         "domain": [
          0,
          1
         ],
         "title": {
          "text": "Player"
         }
        }
       }
      }
     },
     "metadata": {},
     "output_type": "display_data"
    }
   ],
   "source": [
    "\n",
    "import plotly.express as px\n",
    "import pandas as pd\n",
    "\n",
    "# Read data from CSV file\n",
    "file_path = 'C:\\\\Users\\\\eyas1\\\\OneDrive\\\\Desktop\\\\UWM fall 2023 Smash Data\\\\CCC_H2H.csv'  # Replace with the actual path to your CSV file\n",
    "df = pd.read_csv(file_path, index_col=0)  # Assuming the first column is the index\n",
    "\n",
    "# Create a heatmap using Plotly Express\n",
    "fig = px.imshow(df, color_continuous_scale= 'RdBu_r')\n",
    "\n",
    "# Customize the layout and display the plot\n",
    "fig.update_layout(\n",
    "    title='Cream City Clash Head To Head Heat Map',\n",
    "    xaxis_title='Opponent',\n",
    "    yaxis_title='Player',\n",
    "    yaxis_categoryorder='total descending',  # Set category order to display Y-axis labels from the top\n",
    "    xaxis_side='top',  # Move X-axis labels to the top\n",
    "    xaxis_tickangle=-45,  # Rotate X-axis labels by 45 degrees counterclockwise\n",
    "    template = 'plotly_dark'\n",
    ")\n",
    "\n",
    "fig.update_traces(hovertemplate='Player: %{y}<br>Opponent: %{x}<br>Score: %{z}<extra></extra>') \n",
    "\n",
    "# Show the plot\n",
    "fig.show()\n",
    "\n",
    "\n"
   ]
  },
  {
   "cell_type": "code",
   "execution_count": 4,
   "metadata": {},
   "outputs": [
    {
     "data": {
      "application/vnd.plotly.v1+json": {
       "config": {
        "plotlyServerURL": "https://plot.ly"
       },
       "data": [
        {
         "coloraxis": "coloraxis",
         "hovertemplate": "Player: %{y}<br>Opponent: %{x}<br>Score: %{z}<extra></extra>",
         "name": "0",
         "type": "heatmap",
         "x": [
          " Samurai",
          " Eyas",
          " Sophist",
          " Kaiju",
          " ICHIGO",
          " CHICO",
          " Pidgeon",
          " Shinta",
          " TheDood22",
          " Cal",
          " mjmd",
          " bellyache",
          " DrMichaelBay",
          " Frog Lady",
          " Thumbs"
         ],
         "xaxis": "x",
         "y": [
          "Eyas"
         ],
         "yaxis": "y",
         "z": [
          [
           -3,
           0,
           4,
           4,
           0,
           4,
           0,
           1,
           -1,
           1,
           2,
           3,
           1,
           1,
           5
          ]
         ]
        }
       ],
       "layout": {
        "coloraxis": {
         "cmax": 6,
         "cmin": -6,
         "colorscale": [
          [
           0,
           "rgb(5,48,97)"
          ],
          [
           0.1,
           "rgb(33,102,172)"
          ],
          [
           0.2,
           "rgb(67,147,195)"
          ],
          [
           0.3,
           "rgb(146,197,222)"
          ],
          [
           0.4,
           "rgb(209,229,240)"
          ],
          [
           0.5,
           "rgb(247,247,247)"
          ],
          [
           0.6,
           "rgb(253,219,199)"
          ],
          [
           0.7,
           "rgb(244,165,130)"
          ],
          [
           0.8,
           "rgb(214,96,77)"
          ],
          [
           0.9,
           "rgb(178,24,43)"
          ],
          [
           1,
           "rgb(103,0,31)"
          ]
         ]
        },
        "template": {
         "data": {
          "bar": [
           {
            "error_x": {
             "color": "#f2f5fa"
            },
            "error_y": {
             "color": "#f2f5fa"
            },
            "marker": {
             "line": {
              "color": "rgb(17,17,17)",
              "width": 0.5
             },
             "pattern": {
              "fillmode": "overlay",
              "size": 10,
              "solidity": 0.2
             }
            },
            "type": "bar"
           }
          ],
          "barpolar": [
           {
            "marker": {
             "line": {
              "color": "rgb(17,17,17)",
              "width": 0.5
             },
             "pattern": {
              "fillmode": "overlay",
              "size": 10,
              "solidity": 0.2
             }
            },
            "type": "barpolar"
           }
          ],
          "carpet": [
           {
            "aaxis": {
             "endlinecolor": "#A2B1C6",
             "gridcolor": "#506784",
             "linecolor": "#506784",
             "minorgridcolor": "#506784",
             "startlinecolor": "#A2B1C6"
            },
            "baxis": {
             "endlinecolor": "#A2B1C6",
             "gridcolor": "#506784",
             "linecolor": "#506784",
             "minorgridcolor": "#506784",
             "startlinecolor": "#A2B1C6"
            },
            "type": "carpet"
           }
          ],
          "choropleth": [
           {
            "colorbar": {
             "outlinewidth": 0,
             "ticks": ""
            },
            "type": "choropleth"
           }
          ],
          "contour": [
           {
            "colorbar": {
             "outlinewidth": 0,
             "ticks": ""
            },
            "colorscale": [
             [
              0,
              "#0d0887"
             ],
             [
              0.1111111111111111,
              "#46039f"
             ],
             [
              0.2222222222222222,
              "#7201a8"
             ],
             [
              0.3333333333333333,
              "#9c179e"
             ],
             [
              0.4444444444444444,
              "#bd3786"
             ],
             [
              0.5555555555555556,
              "#d8576b"
             ],
             [
              0.6666666666666666,
              "#ed7953"
             ],
             [
              0.7777777777777778,
              "#fb9f3a"
             ],
             [
              0.8888888888888888,
              "#fdca26"
             ],
             [
              1,
              "#f0f921"
             ]
            ],
            "type": "contour"
           }
          ],
          "contourcarpet": [
           {
            "colorbar": {
             "outlinewidth": 0,
             "ticks": ""
            },
            "type": "contourcarpet"
           }
          ],
          "heatmap": [
           {
            "colorbar": {
             "outlinewidth": 0,
             "ticks": ""
            },
            "colorscale": [
             [
              0,
              "#0d0887"
             ],
             [
              0.1111111111111111,
              "#46039f"
             ],
             [
              0.2222222222222222,
              "#7201a8"
             ],
             [
              0.3333333333333333,
              "#9c179e"
             ],
             [
              0.4444444444444444,
              "#bd3786"
             ],
             [
              0.5555555555555556,
              "#d8576b"
             ],
             [
              0.6666666666666666,
              "#ed7953"
             ],
             [
              0.7777777777777778,
              "#fb9f3a"
             ],
             [
              0.8888888888888888,
              "#fdca26"
             ],
             [
              1,
              "#f0f921"
             ]
            ],
            "type": "heatmap"
           }
          ],
          "heatmapgl": [
           {
            "colorbar": {
             "outlinewidth": 0,
             "ticks": ""
            },
            "colorscale": [
             [
              0,
              "#0d0887"
             ],
             [
              0.1111111111111111,
              "#46039f"
             ],
             [
              0.2222222222222222,
              "#7201a8"
             ],
             [
              0.3333333333333333,
              "#9c179e"
             ],
             [
              0.4444444444444444,
              "#bd3786"
             ],
             [
              0.5555555555555556,
              "#d8576b"
             ],
             [
              0.6666666666666666,
              "#ed7953"
             ],
             [
              0.7777777777777778,
              "#fb9f3a"
             ],
             [
              0.8888888888888888,
              "#fdca26"
             ],
             [
              1,
              "#f0f921"
             ]
            ],
            "type": "heatmapgl"
           }
          ],
          "histogram": [
           {
            "marker": {
             "pattern": {
              "fillmode": "overlay",
              "size": 10,
              "solidity": 0.2
             }
            },
            "type": "histogram"
           }
          ],
          "histogram2d": [
           {
            "colorbar": {
             "outlinewidth": 0,
             "ticks": ""
            },
            "colorscale": [
             [
              0,
              "#0d0887"
             ],
             [
              0.1111111111111111,
              "#46039f"
             ],
             [
              0.2222222222222222,
              "#7201a8"
             ],
             [
              0.3333333333333333,
              "#9c179e"
             ],
             [
              0.4444444444444444,
              "#bd3786"
             ],
             [
              0.5555555555555556,
              "#d8576b"
             ],
             [
              0.6666666666666666,
              "#ed7953"
             ],
             [
              0.7777777777777778,
              "#fb9f3a"
             ],
             [
              0.8888888888888888,
              "#fdca26"
             ],
             [
              1,
              "#f0f921"
             ]
            ],
            "type": "histogram2d"
           }
          ],
          "histogram2dcontour": [
           {
            "colorbar": {
             "outlinewidth": 0,
             "ticks": ""
            },
            "colorscale": [
             [
              0,
              "#0d0887"
             ],
             [
              0.1111111111111111,
              "#46039f"
             ],
             [
              0.2222222222222222,
              "#7201a8"
             ],
             [
              0.3333333333333333,
              "#9c179e"
             ],
             [
              0.4444444444444444,
              "#bd3786"
             ],
             [
              0.5555555555555556,
              "#d8576b"
             ],
             [
              0.6666666666666666,
              "#ed7953"
             ],
             [
              0.7777777777777778,
              "#fb9f3a"
             ],
             [
              0.8888888888888888,
              "#fdca26"
             ],
             [
              1,
              "#f0f921"
             ]
            ],
            "type": "histogram2dcontour"
           }
          ],
          "mesh3d": [
           {
            "colorbar": {
             "outlinewidth": 0,
             "ticks": ""
            },
            "type": "mesh3d"
           }
          ],
          "parcoords": [
           {
            "line": {
             "colorbar": {
              "outlinewidth": 0,
              "ticks": ""
             }
            },
            "type": "parcoords"
           }
          ],
          "pie": [
           {
            "automargin": true,
            "type": "pie"
           }
          ],
          "scatter": [
           {
            "marker": {
             "line": {
              "color": "#283442"
             }
            },
            "type": "scatter"
           }
          ],
          "scatter3d": [
           {
            "line": {
             "colorbar": {
              "outlinewidth": 0,
              "ticks": ""
             }
            },
            "marker": {
             "colorbar": {
              "outlinewidth": 0,
              "ticks": ""
             }
            },
            "type": "scatter3d"
           }
          ],
          "scattercarpet": [
           {
            "marker": {
             "colorbar": {
              "outlinewidth": 0,
              "ticks": ""
             }
            },
            "type": "scattercarpet"
           }
          ],
          "scattergeo": [
           {
            "marker": {
             "colorbar": {
              "outlinewidth": 0,
              "ticks": ""
             }
            },
            "type": "scattergeo"
           }
          ],
          "scattergl": [
           {
            "marker": {
             "line": {
              "color": "#283442"
             }
            },
            "type": "scattergl"
           }
          ],
          "scattermapbox": [
           {
            "marker": {
             "colorbar": {
              "outlinewidth": 0,
              "ticks": ""
             }
            },
            "type": "scattermapbox"
           }
          ],
          "scatterpolar": [
           {
            "marker": {
             "colorbar": {
              "outlinewidth": 0,
              "ticks": ""
             }
            },
            "type": "scatterpolar"
           }
          ],
          "scatterpolargl": [
           {
            "marker": {
             "colorbar": {
              "outlinewidth": 0,
              "ticks": ""
             }
            },
            "type": "scatterpolargl"
           }
          ],
          "scatterternary": [
           {
            "marker": {
             "colorbar": {
              "outlinewidth": 0,
              "ticks": ""
             }
            },
            "type": "scatterternary"
           }
          ],
          "surface": [
           {
            "colorbar": {
             "outlinewidth": 0,
             "ticks": ""
            },
            "colorscale": [
             [
              0,
              "#0d0887"
             ],
             [
              0.1111111111111111,
              "#46039f"
             ],
             [
              0.2222222222222222,
              "#7201a8"
             ],
             [
              0.3333333333333333,
              "#9c179e"
             ],
             [
              0.4444444444444444,
              "#bd3786"
             ],
             [
              0.5555555555555556,
              "#d8576b"
             ],
             [
              0.6666666666666666,
              "#ed7953"
             ],
             [
              0.7777777777777778,
              "#fb9f3a"
             ],
             [
              0.8888888888888888,
              "#fdca26"
             ],
             [
              1,
              "#f0f921"
             ]
            ],
            "type": "surface"
           }
          ],
          "table": [
           {
            "cells": {
             "fill": {
              "color": "#506784"
             },
             "line": {
              "color": "rgb(17,17,17)"
             }
            },
            "header": {
             "fill": {
              "color": "#2a3f5f"
             },
             "line": {
              "color": "rgb(17,17,17)"
             }
            },
            "type": "table"
           }
          ]
         },
         "layout": {
          "annotationdefaults": {
           "arrowcolor": "#f2f5fa",
           "arrowhead": 0,
           "arrowwidth": 1
          },
          "autotypenumbers": "strict",
          "coloraxis": {
           "colorbar": {
            "outlinewidth": 0,
            "ticks": ""
           }
          },
          "colorscale": {
           "diverging": [
            [
             0,
             "#8e0152"
            ],
            [
             0.1,
             "#c51b7d"
            ],
            [
             0.2,
             "#de77ae"
            ],
            [
             0.3,
             "#f1b6da"
            ],
            [
             0.4,
             "#fde0ef"
            ],
            [
             0.5,
             "#f7f7f7"
            ],
            [
             0.6,
             "#e6f5d0"
            ],
            [
             0.7,
             "#b8e186"
            ],
            [
             0.8,
             "#7fbc41"
            ],
            [
             0.9,
             "#4d9221"
            ],
            [
             1,
             "#276419"
            ]
           ],
           "sequential": [
            [
             0,
             "#0d0887"
            ],
            [
             0.1111111111111111,
             "#46039f"
            ],
            [
             0.2222222222222222,
             "#7201a8"
            ],
            [
             0.3333333333333333,
             "#9c179e"
            ],
            [
             0.4444444444444444,
             "#bd3786"
            ],
            [
             0.5555555555555556,
             "#d8576b"
            ],
            [
             0.6666666666666666,
             "#ed7953"
            ],
            [
             0.7777777777777778,
             "#fb9f3a"
            ],
            [
             0.8888888888888888,
             "#fdca26"
            ],
            [
             1,
             "#f0f921"
            ]
           ],
           "sequentialminus": [
            [
             0,
             "#0d0887"
            ],
            [
             0.1111111111111111,
             "#46039f"
            ],
            [
             0.2222222222222222,
             "#7201a8"
            ],
            [
             0.3333333333333333,
             "#9c179e"
            ],
            [
             0.4444444444444444,
             "#bd3786"
            ],
            [
             0.5555555555555556,
             "#d8576b"
            ],
            [
             0.6666666666666666,
             "#ed7953"
            ],
            [
             0.7777777777777778,
             "#fb9f3a"
            ],
            [
             0.8888888888888888,
             "#fdca26"
            ],
            [
             1,
             "#f0f921"
            ]
           ]
          },
          "colorway": [
           "#636efa",
           "#EF553B",
           "#00cc96",
           "#ab63fa",
           "#FFA15A",
           "#19d3f3",
           "#FF6692",
           "#B6E880",
           "#FF97FF",
           "#FECB52"
          ],
          "font": {
           "color": "#f2f5fa"
          },
          "geo": {
           "bgcolor": "rgb(17,17,17)",
           "lakecolor": "rgb(17,17,17)",
           "landcolor": "rgb(17,17,17)",
           "showlakes": true,
           "showland": true,
           "subunitcolor": "#506784"
          },
          "hoverlabel": {
           "align": "left"
          },
          "hovermode": "closest",
          "mapbox": {
           "style": "dark"
          },
          "paper_bgcolor": "rgb(17,17,17)",
          "plot_bgcolor": "rgb(17,17,17)",
          "polar": {
           "angularaxis": {
            "gridcolor": "#506784",
            "linecolor": "#506784",
            "ticks": ""
           },
           "bgcolor": "rgb(17,17,17)",
           "radialaxis": {
            "gridcolor": "#506784",
            "linecolor": "#506784",
            "ticks": ""
           }
          },
          "scene": {
           "xaxis": {
            "backgroundcolor": "rgb(17,17,17)",
            "gridcolor": "#506784",
            "gridwidth": 2,
            "linecolor": "#506784",
            "showbackground": true,
            "ticks": "",
            "zerolinecolor": "#C8D4E3"
           },
           "yaxis": {
            "backgroundcolor": "rgb(17,17,17)",
            "gridcolor": "#506784",
            "gridwidth": 2,
            "linecolor": "#506784",
            "showbackground": true,
            "ticks": "",
            "zerolinecolor": "#C8D4E3"
           },
           "zaxis": {
            "backgroundcolor": "rgb(17,17,17)",
            "gridcolor": "#506784",
            "gridwidth": 2,
            "linecolor": "#506784",
            "showbackground": true,
            "ticks": "",
            "zerolinecolor": "#C8D4E3"
           }
          },
          "shapedefaults": {
           "line": {
            "color": "#f2f5fa"
           }
          },
          "sliderdefaults": {
           "bgcolor": "#C8D4E3",
           "bordercolor": "rgb(17,17,17)",
           "borderwidth": 1,
           "tickwidth": 0
          },
          "ternary": {
           "aaxis": {
            "gridcolor": "#506784",
            "linecolor": "#506784",
            "ticks": ""
           },
           "baxis": {
            "gridcolor": "#506784",
            "linecolor": "#506784",
            "ticks": ""
           },
           "bgcolor": "rgb(17,17,17)",
           "caxis": {
            "gridcolor": "#506784",
            "linecolor": "#506784",
            "ticks": ""
           }
          },
          "title": {
           "x": 0.05
          },
          "updatemenudefaults": {
           "bgcolor": "#506784",
           "borderwidth": 0
          },
          "xaxis": {
           "automargin": true,
           "gridcolor": "#283442",
           "linecolor": "#506784",
           "ticks": "",
           "title": {
            "standoff": 15
           },
           "zerolinecolor": "#283442",
           "zerolinewidth": 2
          },
          "yaxis": {
           "automargin": true,
           "gridcolor": "#283442",
           "linecolor": "#506784",
           "ticks": "",
           "title": {
            "standoff": 15
           },
           "zerolinecolor": "#283442",
           "zerolinewidth": 2
          }
         }
        },
        "title": {
         "text": "Eyas vs Top 10"
        },
        "xaxis": {
         "anchor": "y",
         "constrain": "domain",
         "domain": [
          0,
          1
         ],
         "scaleanchor": "y",
         "title": {
          "text": "Opponent"
         }
        },
        "yaxis": {
         "anchor": "x",
         "autorange": "reversed",
         "constrain": "domain",
         "domain": [
          0,
          1
         ],
         "title": {
          "text": ""
         }
        }
       }
      }
     },
     "metadata": {},
     "output_type": "display_data"
    }
   ],
   "source": [
    "import plotly.express as px\n",
    "import pandas as pd\n",
    "\n",
    "# Read data from CSV file\n",
    "file_path = 'C:\\\\Users\\\\eyas1\\\\OneDrive\\\\Desktop\\\\UWM fall 2023 Smash Data\\\\CCC_H2H.csv'  # Replace with the actual path to your CSV file\n",
    "df = pd.read_csv(file_path, index_col=0)  # Assuming the first column is the index\n",
    "\n",
    "# Extract the second row\n",
    "row_data = df.iloc[1, :]\n",
    "\n",
    "# Create a DataFrame with only the second row\n",
    "df_second_row = pd.DataFrame(row_data).transpose()\n",
    "\n",
    "# Create a heatmap using Plotly Express\n",
    "fig = px.imshow(df_second_row, color_continuous_scale = 'RdBu_r', range_color = [-6,6],  labels=dict(x='Value', y='Opponent'), title='Eyas vs Top 10',)\n",
    "\n",
    "fig.update_traces(hovertemplate='Player: %{y}<br>Opponent: %{x}<br>Score: %{z}<extra></extra>') \n",
    "\n",
    "# Customize the layout to go up and down\n",
    "fig.update_layout(\n",
    "    xaxis_title='Opponent',\n",
    "\n",
    "    yaxis_title='',\n",
    "\n",
    "    template = 'plotly_dark'\n",
    ")\n",
    "\n",
    "\n",
    "# Show the plot\n",
    "fig.show()\n",
    "\n"
   ]
  },
  {
   "cell_type": "code",
   "execution_count": 5,
   "metadata": {},
   "outputs": [
    {
     "data": {
      "application/vnd.plotly.v1+json": {
       "config": {
        "plotlyServerURL": "https://plot.ly"
       },
       "data": [
        {
         "coloraxis": "coloraxis",
         "hovertemplate": "Player: %{y}<br>Opponent: %{x}<br>Score: %{z}<extra></extra>",
         "name": "0",
         "type": "heatmap",
         "x": [
          " Samurai",
          " Eyas",
          " Sophist",
          " Kaiju",
          " ICHIGO",
          " CHICO",
          " Pidgeon",
          " Shinta",
          " TheDood22",
          " Cal",
          " mjmd",
          " bellyache",
          " DrMichaelBay",
          " Frog Lady",
          " Thumbs"
         ],
         "xaxis": "x",
         "y": [
          "Samurai"
         ],
         "yaxis": "y",
         "z": [
          [
           0,
           3,
           1,
           4,
           6,
           -3,
           1,
           3,
           2,
           1,
           2,
           1,
           2,
           1,
           4
          ]
         ]
        }
       ],
       "layout": {
        "coloraxis": {
         "cmax": 6,
         "cmin": -6,
         "colorscale": [
          [
           0,
           "rgb(5,48,97)"
          ],
          [
           0.1,
           "rgb(33,102,172)"
          ],
          [
           0.2,
           "rgb(67,147,195)"
          ],
          [
           0.3,
           "rgb(146,197,222)"
          ],
          [
           0.4,
           "rgb(209,229,240)"
          ],
          [
           0.5,
           "rgb(247,247,247)"
          ],
          [
           0.6,
           "rgb(253,219,199)"
          ],
          [
           0.7,
           "rgb(244,165,130)"
          ],
          [
           0.8,
           "rgb(214,96,77)"
          ],
          [
           0.9,
           "rgb(178,24,43)"
          ],
          [
           1,
           "rgb(103,0,31)"
          ]
         ]
        },
        "template": {
         "data": {
          "bar": [
           {
            "error_x": {
             "color": "#f2f5fa"
            },
            "error_y": {
             "color": "#f2f5fa"
            },
            "marker": {
             "line": {
              "color": "rgb(17,17,17)",
              "width": 0.5
             },
             "pattern": {
              "fillmode": "overlay",
              "size": 10,
              "solidity": 0.2
             }
            },
            "type": "bar"
           }
          ],
          "barpolar": [
           {
            "marker": {
             "line": {
              "color": "rgb(17,17,17)",
              "width": 0.5
             },
             "pattern": {
              "fillmode": "overlay",
              "size": 10,
              "solidity": 0.2
             }
            },
            "type": "barpolar"
           }
          ],
          "carpet": [
           {
            "aaxis": {
             "endlinecolor": "#A2B1C6",
             "gridcolor": "#506784",
             "linecolor": "#506784",
             "minorgridcolor": "#506784",
             "startlinecolor": "#A2B1C6"
            },
            "baxis": {
             "endlinecolor": "#A2B1C6",
             "gridcolor": "#506784",
             "linecolor": "#506784",
             "minorgridcolor": "#506784",
             "startlinecolor": "#A2B1C6"
            },
            "type": "carpet"
           }
          ],
          "choropleth": [
           {
            "colorbar": {
             "outlinewidth": 0,
             "ticks": ""
            },
            "type": "choropleth"
           }
          ],
          "contour": [
           {
            "colorbar": {
             "outlinewidth": 0,
             "ticks": ""
            },
            "colorscale": [
             [
              0,
              "#0d0887"
             ],
             [
              0.1111111111111111,
              "#46039f"
             ],
             [
              0.2222222222222222,
              "#7201a8"
             ],
             [
              0.3333333333333333,
              "#9c179e"
             ],
             [
              0.4444444444444444,
              "#bd3786"
             ],
             [
              0.5555555555555556,
              "#d8576b"
             ],
             [
              0.6666666666666666,
              "#ed7953"
             ],
             [
              0.7777777777777778,
              "#fb9f3a"
             ],
             [
              0.8888888888888888,
              "#fdca26"
             ],
             [
              1,
              "#f0f921"
             ]
            ],
            "type": "contour"
           }
          ],
          "contourcarpet": [
           {
            "colorbar": {
             "outlinewidth": 0,
             "ticks": ""
            },
            "type": "contourcarpet"
           }
          ],
          "heatmap": [
           {
            "colorbar": {
             "outlinewidth": 0,
             "ticks": ""
            },
            "colorscale": [
             [
              0,
              "#0d0887"
             ],
             [
              0.1111111111111111,
              "#46039f"
             ],
             [
              0.2222222222222222,
              "#7201a8"
             ],
             [
              0.3333333333333333,
              "#9c179e"
             ],
             [
              0.4444444444444444,
              "#bd3786"
             ],
             [
              0.5555555555555556,
              "#d8576b"
             ],
             [
              0.6666666666666666,
              "#ed7953"
             ],
             [
              0.7777777777777778,
              "#fb9f3a"
             ],
             [
              0.8888888888888888,
              "#fdca26"
             ],
             [
              1,
              "#f0f921"
             ]
            ],
            "type": "heatmap"
           }
          ],
          "heatmapgl": [
           {
            "colorbar": {
             "outlinewidth": 0,
             "ticks": ""
            },
            "colorscale": [
             [
              0,
              "#0d0887"
             ],
             [
              0.1111111111111111,
              "#46039f"
             ],
             [
              0.2222222222222222,
              "#7201a8"
             ],
             [
              0.3333333333333333,
              "#9c179e"
             ],
             [
              0.4444444444444444,
              "#bd3786"
             ],
             [
              0.5555555555555556,
              "#d8576b"
             ],
             [
              0.6666666666666666,
              "#ed7953"
             ],
             [
              0.7777777777777778,
              "#fb9f3a"
             ],
             [
              0.8888888888888888,
              "#fdca26"
             ],
             [
              1,
              "#f0f921"
             ]
            ],
            "type": "heatmapgl"
           }
          ],
          "histogram": [
           {
            "marker": {
             "pattern": {
              "fillmode": "overlay",
              "size": 10,
              "solidity": 0.2
             }
            },
            "type": "histogram"
           }
          ],
          "histogram2d": [
           {
            "colorbar": {
             "outlinewidth": 0,
             "ticks": ""
            },
            "colorscale": [
             [
              0,
              "#0d0887"
             ],
             [
              0.1111111111111111,
              "#46039f"
             ],
             [
              0.2222222222222222,
              "#7201a8"
             ],
             [
              0.3333333333333333,
              "#9c179e"
             ],
             [
              0.4444444444444444,
              "#bd3786"
             ],
             [
              0.5555555555555556,
              "#d8576b"
             ],
             [
              0.6666666666666666,
              "#ed7953"
             ],
             [
              0.7777777777777778,
              "#fb9f3a"
             ],
             [
              0.8888888888888888,
              "#fdca26"
             ],
             [
              1,
              "#f0f921"
             ]
            ],
            "type": "histogram2d"
           }
          ],
          "histogram2dcontour": [
           {
            "colorbar": {
             "outlinewidth": 0,
             "ticks": ""
            },
            "colorscale": [
             [
              0,
              "#0d0887"
             ],
             [
              0.1111111111111111,
              "#46039f"
             ],
             [
              0.2222222222222222,
              "#7201a8"
             ],
             [
              0.3333333333333333,
              "#9c179e"
             ],
             [
              0.4444444444444444,
              "#bd3786"
             ],
             [
              0.5555555555555556,
              "#d8576b"
             ],
             [
              0.6666666666666666,
              "#ed7953"
             ],
             [
              0.7777777777777778,
              "#fb9f3a"
             ],
             [
              0.8888888888888888,
              "#fdca26"
             ],
             [
              1,
              "#f0f921"
             ]
            ],
            "type": "histogram2dcontour"
           }
          ],
          "mesh3d": [
           {
            "colorbar": {
             "outlinewidth": 0,
             "ticks": ""
            },
            "type": "mesh3d"
           }
          ],
          "parcoords": [
           {
            "line": {
             "colorbar": {
              "outlinewidth": 0,
              "ticks": ""
             }
            },
            "type": "parcoords"
           }
          ],
          "pie": [
           {
            "automargin": true,
            "type": "pie"
           }
          ],
          "scatter": [
           {
            "marker": {
             "line": {
              "color": "#283442"
             }
            },
            "type": "scatter"
           }
          ],
          "scatter3d": [
           {
            "line": {
             "colorbar": {
              "outlinewidth": 0,
              "ticks": ""
             }
            },
            "marker": {
             "colorbar": {
              "outlinewidth": 0,
              "ticks": ""
             }
            },
            "type": "scatter3d"
           }
          ],
          "scattercarpet": [
           {
            "marker": {
             "colorbar": {
              "outlinewidth": 0,
              "ticks": ""
             }
            },
            "type": "scattercarpet"
           }
          ],
          "scattergeo": [
           {
            "marker": {
             "colorbar": {
              "outlinewidth": 0,
              "ticks": ""
             }
            },
            "type": "scattergeo"
           }
          ],
          "scattergl": [
           {
            "marker": {
             "line": {
              "color": "#283442"
             }
            },
            "type": "scattergl"
           }
          ],
          "scattermapbox": [
           {
            "marker": {
             "colorbar": {
              "outlinewidth": 0,
              "ticks": ""
             }
            },
            "type": "scattermapbox"
           }
          ],
          "scatterpolar": [
           {
            "marker": {
             "colorbar": {
              "outlinewidth": 0,
              "ticks": ""
             }
            },
            "type": "scatterpolar"
           }
          ],
          "scatterpolargl": [
           {
            "marker": {
             "colorbar": {
              "outlinewidth": 0,
              "ticks": ""
             }
            },
            "type": "scatterpolargl"
           }
          ],
          "scatterternary": [
           {
            "marker": {
             "colorbar": {
              "outlinewidth": 0,
              "ticks": ""
             }
            },
            "type": "scatterternary"
           }
          ],
          "surface": [
           {
            "colorbar": {
             "outlinewidth": 0,
             "ticks": ""
            },
            "colorscale": [
             [
              0,
              "#0d0887"
             ],
             [
              0.1111111111111111,
              "#46039f"
             ],
             [
              0.2222222222222222,
              "#7201a8"
             ],
             [
              0.3333333333333333,
              "#9c179e"
             ],
             [
              0.4444444444444444,
              "#bd3786"
             ],
             [
              0.5555555555555556,
              "#d8576b"
             ],
             [
              0.6666666666666666,
              "#ed7953"
             ],
             [
              0.7777777777777778,
              "#fb9f3a"
             ],
             [
              0.8888888888888888,
              "#fdca26"
             ],
             [
              1,
              "#f0f921"
             ]
            ],
            "type": "surface"
           }
          ],
          "table": [
           {
            "cells": {
             "fill": {
              "color": "#506784"
             },
             "line": {
              "color": "rgb(17,17,17)"
             }
            },
            "header": {
             "fill": {
              "color": "#2a3f5f"
             },
             "line": {
              "color": "rgb(17,17,17)"
             }
            },
            "type": "table"
           }
          ]
         },
         "layout": {
          "annotationdefaults": {
           "arrowcolor": "#f2f5fa",
           "arrowhead": 0,
           "arrowwidth": 1
          },
          "autotypenumbers": "strict",
          "coloraxis": {
           "colorbar": {
            "outlinewidth": 0,
            "ticks": ""
           }
          },
          "colorscale": {
           "diverging": [
            [
             0,
             "#8e0152"
            ],
            [
             0.1,
             "#c51b7d"
            ],
            [
             0.2,
             "#de77ae"
            ],
            [
             0.3,
             "#f1b6da"
            ],
            [
             0.4,
             "#fde0ef"
            ],
            [
             0.5,
             "#f7f7f7"
            ],
            [
             0.6,
             "#e6f5d0"
            ],
            [
             0.7,
             "#b8e186"
            ],
            [
             0.8,
             "#7fbc41"
            ],
            [
             0.9,
             "#4d9221"
            ],
            [
             1,
             "#276419"
            ]
           ],
           "sequential": [
            [
             0,
             "#0d0887"
            ],
            [
             0.1111111111111111,
             "#46039f"
            ],
            [
             0.2222222222222222,
             "#7201a8"
            ],
            [
             0.3333333333333333,
             "#9c179e"
            ],
            [
             0.4444444444444444,
             "#bd3786"
            ],
            [
             0.5555555555555556,
             "#d8576b"
            ],
            [
             0.6666666666666666,
             "#ed7953"
            ],
            [
             0.7777777777777778,
             "#fb9f3a"
            ],
            [
             0.8888888888888888,
             "#fdca26"
            ],
            [
             1,
             "#f0f921"
            ]
           ],
           "sequentialminus": [
            [
             0,
             "#0d0887"
            ],
            [
             0.1111111111111111,
             "#46039f"
            ],
            [
             0.2222222222222222,
             "#7201a8"
            ],
            [
             0.3333333333333333,
             "#9c179e"
            ],
            [
             0.4444444444444444,
             "#bd3786"
            ],
            [
             0.5555555555555556,
             "#d8576b"
            ],
            [
             0.6666666666666666,
             "#ed7953"
            ],
            [
             0.7777777777777778,
             "#fb9f3a"
            ],
            [
             0.8888888888888888,
             "#fdca26"
            ],
            [
             1,
             "#f0f921"
            ]
           ]
          },
          "colorway": [
           "#636efa",
           "#EF553B",
           "#00cc96",
           "#ab63fa",
           "#FFA15A",
           "#19d3f3",
           "#FF6692",
           "#B6E880",
           "#FF97FF",
           "#FECB52"
          ],
          "font": {
           "color": "#f2f5fa"
          },
          "geo": {
           "bgcolor": "rgb(17,17,17)",
           "lakecolor": "rgb(17,17,17)",
           "landcolor": "rgb(17,17,17)",
           "showlakes": true,
           "showland": true,
           "subunitcolor": "#506784"
          },
          "hoverlabel": {
           "align": "left"
          },
          "hovermode": "closest",
          "mapbox": {
           "style": "dark"
          },
          "paper_bgcolor": "rgb(17,17,17)",
          "plot_bgcolor": "rgb(17,17,17)",
          "polar": {
           "angularaxis": {
            "gridcolor": "#506784",
            "linecolor": "#506784",
            "ticks": ""
           },
           "bgcolor": "rgb(17,17,17)",
           "radialaxis": {
            "gridcolor": "#506784",
            "linecolor": "#506784",
            "ticks": ""
           }
          },
          "scene": {
           "xaxis": {
            "backgroundcolor": "rgb(17,17,17)",
            "gridcolor": "#506784",
            "gridwidth": 2,
            "linecolor": "#506784",
            "showbackground": true,
            "ticks": "",
            "zerolinecolor": "#C8D4E3"
           },
           "yaxis": {
            "backgroundcolor": "rgb(17,17,17)",
            "gridcolor": "#506784",
            "gridwidth": 2,
            "linecolor": "#506784",
            "showbackground": true,
            "ticks": "",
            "zerolinecolor": "#C8D4E3"
           },
           "zaxis": {
            "backgroundcolor": "rgb(17,17,17)",
            "gridcolor": "#506784",
            "gridwidth": 2,
            "linecolor": "#506784",
            "showbackground": true,
            "ticks": "",
            "zerolinecolor": "#C8D4E3"
           }
          },
          "shapedefaults": {
           "line": {
            "color": "#f2f5fa"
           }
          },
          "sliderdefaults": {
           "bgcolor": "#C8D4E3",
           "bordercolor": "rgb(17,17,17)",
           "borderwidth": 1,
           "tickwidth": 0
          },
          "ternary": {
           "aaxis": {
            "gridcolor": "#506784",
            "linecolor": "#506784",
            "ticks": ""
           },
           "baxis": {
            "gridcolor": "#506784",
            "linecolor": "#506784",
            "ticks": ""
           },
           "bgcolor": "rgb(17,17,17)",
           "caxis": {
            "gridcolor": "#506784",
            "linecolor": "#506784",
            "ticks": ""
           }
          },
          "title": {
           "x": 0.05
          },
          "updatemenudefaults": {
           "bgcolor": "#506784",
           "borderwidth": 0
          },
          "xaxis": {
           "automargin": true,
           "gridcolor": "#283442",
           "linecolor": "#506784",
           "ticks": "",
           "title": {
            "standoff": 15
           },
           "zerolinecolor": "#283442",
           "zerolinewidth": 2
          },
          "yaxis": {
           "automargin": true,
           "gridcolor": "#283442",
           "linecolor": "#506784",
           "ticks": "",
           "title": {
            "standoff": 15
           },
           "zerolinecolor": "#283442",
           "zerolinewidth": 2
          }
         }
        },
        "title": {
         "text": "Samurai vs Top 10"
        },
        "xaxis": {
         "anchor": "y",
         "constrain": "domain",
         "domain": [
          0,
          1
         ],
         "scaleanchor": "y",
         "title": {
          "text": "Opponent"
         }
        },
        "yaxis": {
         "anchor": "x",
         "autorange": "reversed",
         "constrain": "domain",
         "domain": [
          0,
          1
         ],
         "title": {
          "text": ""
         }
        }
       }
      }
     },
     "metadata": {},
     "output_type": "display_data"
    }
   ],
   "source": [
    "import plotly.express as px\n",
    "import pandas as pd\n",
    "\n",
    "# Read data from CSV file\n",
    "file_path = 'C:\\\\Users\\\\eyas1\\\\OneDrive\\\\Desktop\\\\UWM fall 2023 Smash Data\\\\CCC_H2H.csv'  # Replace with the actual path to your CSV file\n",
    "df = pd.read_csv(file_path, index_col=0)  # Assuming the first column is the index\n",
    "\n",
    "# Extract the second row\n",
    "row_data = df.iloc[0, :]\n",
    "\n",
    "# Create a DataFrame with only the second row\n",
    "df_second_row = pd.DataFrame(row_data).transpose()\n",
    "\n",
    "# Create a heatmap using Plotly Express\n",
    "fig = px.imshow(df_second_row, color_continuous_scale = 'RdBu_r', range_color = [-6,6],  labels=dict(x='Value', y='Opponent'), title='Samurai vs Top 10',)\n",
    "\n",
    "fig.update_traces(hovertemplate='Player: %{y}<br>Opponent: %{x}<br>Score: %{z}<extra></extra>') \n",
    "\n",
    "# Customize the layout to go up and down\n",
    "fig.update_layout(\n",
    "    xaxis_title='Opponent',\n",
    "\n",
    "    yaxis_title='',\n",
    "\n",
    "    template = 'plotly_dark'\n",
    ")"
   ]
  },
  {
   "cell_type": "code",
   "execution_count": 6,
   "metadata": {},
   "outputs": [
    {
     "data": {
      "text/html": [
       "<div>\n",
       "<style scoped>\n",
       "    .dataframe tbody tr th:only-of-type {\n",
       "        vertical-align: middle;\n",
       "    }\n",
       "\n",
       "    .dataframe tbody tr th {\n",
       "        vertical-align: top;\n",
       "    }\n",
       "\n",
       "    .dataframe thead th {\n",
       "        text-align: right;\n",
       "    }\n",
       "</style>\n",
       "<table border=\"1\" class=\"dataframe\">\n",
       "  <thead>\n",
       "    <tr style=\"text-align: right;\">\n",
       "      <th></th>\n",
       "      <th>Samurai</th>\n",
       "      <th>Eyas</th>\n",
       "      <th>Sophist</th>\n",
       "      <th>Kaiju</th>\n",
       "      <th>ICHIGO</th>\n",
       "      <th>CHICO</th>\n",
       "      <th>Pidgeon</th>\n",
       "      <th>Shinta</th>\n",
       "      <th>TheDood22</th>\n",
       "      <th>Cal</th>\n",
       "      <th>...</th>\n",
       "      <th>Frog Lady</th>\n",
       "      <th>Thumbs</th>\n",
       "      <th>Payday</th>\n",
       "      <th>The_Verminator</th>\n",
       "      <th>Zxtra</th>\n",
       "      <th>Lv.3 Asian</th>\n",
       "      <th>Rainstorm</th>\n",
       "      <th>goober</th>\n",
       "      <th>TDollas</th>\n",
       "      <th>Helix</th>\n",
       "    </tr>\n",
       "    <tr>\n",
       "      <th>Players</th>\n",
       "      <th></th>\n",
       "      <th></th>\n",
       "      <th></th>\n",
       "      <th></th>\n",
       "      <th></th>\n",
       "      <th></th>\n",
       "      <th></th>\n",
       "      <th></th>\n",
       "      <th></th>\n",
       "      <th></th>\n",
       "      <th></th>\n",
       "      <th></th>\n",
       "      <th></th>\n",
       "      <th></th>\n",
       "      <th></th>\n",
       "      <th></th>\n",
       "      <th></th>\n",
       "      <th></th>\n",
       "      <th></th>\n",
       "      <th></th>\n",
       "      <th></th>\n",
       "    </tr>\n",
       "  </thead>\n",
       "  <tbody>\n",
       "    <tr>\n",
       "      <th>Samurai</th>\n",
       "      <td>0</td>\n",
       "      <td>9</td>\n",
       "      <td>5</td>\n",
       "      <td>4</td>\n",
       "      <td>8</td>\n",
       "      <td>3</td>\n",
       "      <td>1</td>\n",
       "      <td>3</td>\n",
       "      <td>2</td>\n",
       "      <td>5</td>\n",
       "      <td>...</td>\n",
       "      <td>1</td>\n",
       "      <td>4</td>\n",
       "      <td>0</td>\n",
       "      <td>1</td>\n",
       "      <td>1</td>\n",
       "      <td>0</td>\n",
       "      <td>1</td>\n",
       "      <td>0</td>\n",
       "      <td>1</td>\n",
       "      <td>1</td>\n",
       "    </tr>\n",
       "    <tr>\n",
       "      <th>Eyas</th>\n",
       "      <td>9</td>\n",
       "      <td>0</td>\n",
       "      <td>4</td>\n",
       "      <td>8</td>\n",
       "      <td>4</td>\n",
       "      <td>4</td>\n",
       "      <td>2</td>\n",
       "      <td>1</td>\n",
       "      <td>5</td>\n",
       "      <td>3</td>\n",
       "      <td>...</td>\n",
       "      <td>1</td>\n",
       "      <td>5</td>\n",
       "      <td>1</td>\n",
       "      <td>1</td>\n",
       "      <td>0</td>\n",
       "      <td>1</td>\n",
       "      <td>0</td>\n",
       "      <td>3</td>\n",
       "      <td>0</td>\n",
       "      <td>1</td>\n",
       "    </tr>\n",
       "    <tr>\n",
       "      <th>Sophist</th>\n",
       "      <td>5</td>\n",
       "      <td>4</td>\n",
       "      <td>0</td>\n",
       "      <td>6</td>\n",
       "      <td>8</td>\n",
       "      <td>1</td>\n",
       "      <td>3</td>\n",
       "      <td>5</td>\n",
       "      <td>3</td>\n",
       "      <td>5</td>\n",
       "      <td>...</td>\n",
       "      <td>0</td>\n",
       "      <td>1</td>\n",
       "      <td>1</td>\n",
       "      <td>1</td>\n",
       "      <td>0</td>\n",
       "      <td>1</td>\n",
       "      <td>2</td>\n",
       "      <td>1</td>\n",
       "      <td>0</td>\n",
       "      <td>2</td>\n",
       "    </tr>\n",
       "    <tr>\n",
       "      <th>Kaiju</th>\n",
       "      <td>4</td>\n",
       "      <td>8</td>\n",
       "      <td>6</td>\n",
       "      <td>0</td>\n",
       "      <td>6</td>\n",
       "      <td>1</td>\n",
       "      <td>0</td>\n",
       "      <td>2</td>\n",
       "      <td>3</td>\n",
       "      <td>5</td>\n",
       "      <td>...</td>\n",
       "      <td>0</td>\n",
       "      <td>1</td>\n",
       "      <td>1</td>\n",
       "      <td>1</td>\n",
       "      <td>2</td>\n",
       "      <td>1</td>\n",
       "      <td>3</td>\n",
       "      <td>2</td>\n",
       "      <td>1</td>\n",
       "      <td>2</td>\n",
       "    </tr>\n",
       "    <tr>\n",
       "      <th>ICHIGO</th>\n",
       "      <td>8</td>\n",
       "      <td>4</td>\n",
       "      <td>8</td>\n",
       "      <td>6</td>\n",
       "      <td>0</td>\n",
       "      <td>2</td>\n",
       "      <td>3</td>\n",
       "      <td>2</td>\n",
       "      <td>5</td>\n",
       "      <td>5</td>\n",
       "      <td>...</td>\n",
       "      <td>0</td>\n",
       "      <td>3</td>\n",
       "      <td>3</td>\n",
       "      <td>1</td>\n",
       "      <td>1</td>\n",
       "      <td>1</td>\n",
       "      <td>3</td>\n",
       "      <td>3</td>\n",
       "      <td>0</td>\n",
       "      <td>1</td>\n",
       "    </tr>\n",
       "    <tr>\n",
       "      <th>CHICO</th>\n",
       "      <td>3</td>\n",
       "      <td>4</td>\n",
       "      <td>1</td>\n",
       "      <td>1</td>\n",
       "      <td>2</td>\n",
       "      <td>0</td>\n",
       "      <td>2</td>\n",
       "      <td>0</td>\n",
       "      <td>2</td>\n",
       "      <td>1</td>\n",
       "      <td>...</td>\n",
       "      <td>0</td>\n",
       "      <td>1</td>\n",
       "      <td>0</td>\n",
       "      <td>0</td>\n",
       "      <td>1</td>\n",
       "      <td>0</td>\n",
       "      <td>0</td>\n",
       "      <td>2</td>\n",
       "      <td>1</td>\n",
       "      <td>0</td>\n",
       "    </tr>\n",
       "    <tr>\n",
       "      <th>Pidgeon</th>\n",
       "      <td>1</td>\n",
       "      <td>2</td>\n",
       "      <td>3</td>\n",
       "      <td>0</td>\n",
       "      <td>3</td>\n",
       "      <td>2</td>\n",
       "      <td>0</td>\n",
       "      <td>0</td>\n",
       "      <td>0</td>\n",
       "      <td>2</td>\n",
       "      <td>...</td>\n",
       "      <td>0</td>\n",
       "      <td>1</td>\n",
       "      <td>0</td>\n",
       "      <td>1</td>\n",
       "      <td>0</td>\n",
       "      <td>0</td>\n",
       "      <td>0</td>\n",
       "      <td>1</td>\n",
       "      <td>0</td>\n",
       "      <td>1</td>\n",
       "    </tr>\n",
       "    <tr>\n",
       "      <th>Shinta</th>\n",
       "      <td>3</td>\n",
       "      <td>1</td>\n",
       "      <td>5</td>\n",
       "      <td>2</td>\n",
       "      <td>2</td>\n",
       "      <td>0</td>\n",
       "      <td>0</td>\n",
       "      <td>0</td>\n",
       "      <td>4</td>\n",
       "      <td>2</td>\n",
       "      <td>...</td>\n",
       "      <td>0</td>\n",
       "      <td>0</td>\n",
       "      <td>1</td>\n",
       "      <td>0</td>\n",
       "      <td>0</td>\n",
       "      <td>1</td>\n",
       "      <td>0</td>\n",
       "      <td>2</td>\n",
       "      <td>1</td>\n",
       "      <td>2</td>\n",
       "    </tr>\n",
       "    <tr>\n",
       "      <th>TheDood22</th>\n",
       "      <td>2</td>\n",
       "      <td>5</td>\n",
       "      <td>3</td>\n",
       "      <td>3</td>\n",
       "      <td>5</td>\n",
       "      <td>2</td>\n",
       "      <td>0</td>\n",
       "      <td>4</td>\n",
       "      <td>0</td>\n",
       "      <td>4</td>\n",
       "      <td>...</td>\n",
       "      <td>2</td>\n",
       "      <td>4</td>\n",
       "      <td>3</td>\n",
       "      <td>0</td>\n",
       "      <td>1</td>\n",
       "      <td>1</td>\n",
       "      <td>0</td>\n",
       "      <td>7</td>\n",
       "      <td>1</td>\n",
       "      <td>4</td>\n",
       "    </tr>\n",
       "    <tr>\n",
       "      <th>Cal</th>\n",
       "      <td>5</td>\n",
       "      <td>3</td>\n",
       "      <td>5</td>\n",
       "      <td>5</td>\n",
       "      <td>5</td>\n",
       "      <td>1</td>\n",
       "      <td>2</td>\n",
       "      <td>2</td>\n",
       "      <td>4</td>\n",
       "      <td>0</td>\n",
       "      <td>...</td>\n",
       "      <td>2</td>\n",
       "      <td>3</td>\n",
       "      <td>2</td>\n",
       "      <td>0</td>\n",
       "      <td>1</td>\n",
       "      <td>0</td>\n",
       "      <td>1</td>\n",
       "      <td>3</td>\n",
       "      <td>0</td>\n",
       "      <td>5</td>\n",
       "    </tr>\n",
       "  </tbody>\n",
       "</table>\n",
       "<p>10 rows × 23 columns</p>\n",
       "</div>"
      ],
      "text/plain": [
       "           Samurai  Eyas  Sophist  Kaiju  ICHIGO  CHICO  Pidgeon  Shinta  \\\n",
       "Players                                                                    \n",
       "Samurai          0     9        5      4       8      3        1       3   \n",
       "Eyas             9     0        4      8       4      4        2       1   \n",
       "Sophist          5     4        0      6       8      1        3       5   \n",
       "Kaiju            4     8        6      0       6      1        0       2   \n",
       "ICHIGO           8     4        8      6       0      2        3       2   \n",
       "CHICO            3     4        1      1       2      0        2       0   \n",
       "Pidgeon          1     2        3      0       3      2        0       0   \n",
       "Shinta           3     1        5      2       2      0        0       0   \n",
       "TheDood22        2     5        3      3       5      2        0       4   \n",
       "Cal              5     3        5      5       5      1        2       2   \n",
       "\n",
       "           TheDood22  Cal  ...  Frog Lady  Thumbs  Payday  The_Verminator  \\\n",
       "Players                    ...                                              \n",
       "Samurai            2    5  ...          1       4       0               1   \n",
       "Eyas               5    3  ...          1       5       1               1   \n",
       "Sophist            3    5  ...          0       1       1               1   \n",
       "Kaiju              3    5  ...          0       1       1               1   \n",
       "ICHIGO             5    5  ...          0       3       3               1   \n",
       "CHICO              2    1  ...          0       1       0               0   \n",
       "Pidgeon            0    2  ...          0       1       0               1   \n",
       "Shinta             4    2  ...          0       0       1               0   \n",
       "TheDood22          0    4  ...          2       4       3               0   \n",
       "Cal                4    0  ...          2       3       2               0   \n",
       "\n",
       "           Zxtra  Lv.3 Asian  Rainstorm  goober  TDollas  Helix  \n",
       "Players                                                          \n",
       "Samurai        1           0          1       0        1      1  \n",
       "Eyas           0           1          0       3        0      1  \n",
       "Sophist        0           1          2       1        0      2  \n",
       "Kaiju          2           1          3       2        1      2  \n",
       "ICHIGO         1           1          3       3        0      1  \n",
       "CHICO          1           0          0       2        1      0  \n",
       "Pidgeon        0           0          0       1        0      1  \n",
       "Shinta         0           1          0       2        1      2  \n",
       "TheDood22      1           1          0       7        1      4  \n",
       "Cal            1           0          1       3        0      5  \n",
       "\n",
       "[10 rows x 23 columns]"
      ]
     },
     "execution_count": 6,
     "metadata": {},
     "output_type": "execute_result"
    }
   ],
   "source": [
    "import plotly.express as px \n",
    "import pandas as pd\n",
    "\n",
    "heatmap_file_path = 'C:\\\\Users\\\\eyas1\\\\OneDrive\\\\Desktop\\\\UWM fall 2023 Smash Data\\\\Total Sets Played Cream City Clash Fall 2023 H2H.csv'\n",
    "heatmap_df = pd.read_csv(heatmap_file_path, index_col=0)  # Assuming the first column is the index\n",
    "\n",
    "heatmap_df.head(10)\n"
   ]
  },
  {
   "cell_type": "code",
   "execution_count": 7,
   "metadata": {},
   "outputs": [
    {
     "name": "stderr",
     "output_type": "stream",
     "text": [
      "C:\\Users\\eyas1\\AppData\\Local\\Temp\\ipykernel_19612\\808948683.py:35: FutureWarning:\n",
      "\n",
      "DataFrame.applymap has been deprecated. Use DataFrame.map instead.\n",
      "\n"
     ]
    },
    {
     "data": {
      "application/vnd.plotly.v1+json": {
       "config": {
        "plotlyServerURL": "https://plot.ly"
       },
       "data": [
        {
         "coloraxis": "coloraxis",
         "customdata": [
          [
           "N/A",
           "+3",
           "+1",
           "+4",
           "+6",
           -3,
           "+1",
           "+3",
           "+2",
           "+1",
           "+2",
           "+1",
           "+2",
           "+1",
           "+4",
           0,
           "+1",
           "+1",
           0,
           "+1",
           0,
           "+1",
           "+1"
          ],
          [
           -3,
           "N/A",
           "+4",
           "+4",
           0,
           "+4",
           0,
           "+1",
           -1,
           "+1",
           "+2",
           "+3",
           "+1",
           "+1",
           "+5",
           "+1",
           "+1",
           0,
           "+1",
           0,
           "+3",
           0,
           "+1"
          ],
          [
           -1,
           -4,
           "N/A",
           -4,
           "+4",
           "+1",
           "+1",
           "+5",
           "+3",
           "+5",
           "+1",
           "+4",
           "+1",
           0,
           "+1",
           "+1",
           "+1",
           0,
           "+1",
           "+2",
           "+1",
           0,
           "+2"
          ],
          [
           -4,
           -4,
           "+4",
           "N/A",
           -2,
           "+1",
           0,
           "+2",
           "+1",
           "+5",
           0,
           "+1",
           "+1",
           0,
           "+1",
           "+1",
           "+1",
           "+2",
           "+1",
           "+3",
           "+2",
           "+1",
           "+2"
          ],
          [
           -6,
           0,
           -4,
           "+2",
           "N/A",
           0,
           -1,
           0,
           "+3",
           "+1",
           "+3",
           "+3",
           "+2",
           0,
           "+1",
           "+3",
           "+1",
           "+1",
           "+1",
           "+3",
           "+3",
           0,
           "+1"
          ],
          [
           "+3",
           -4,
           -1,
           -1,
           0,
           "N/A",
           "+2",
           0,
           0,
           "+1",
           "+1",
           "+2",
           0,
           0,
           "+1",
           0,
           0,
           "+1",
           0,
           0,
           "+2",
           "+1",
           0
          ],
          [
           -1,
           0,
           -1,
           0,
           "+1",
           -2,
           "N/A",
           0,
           0,
           0,
           "+1",
           "+1",
           0,
           0,
           "+1",
           0,
           "+1",
           0,
           0,
           0,
           "+1",
           0,
           "+1"
          ],
          [
           -3,
           -1,
           -5,
           -2,
           0,
           0,
           0,
           "N/A",
           "+4",
           "+2",
           -1,
           "+1",
           0,
           0,
           0,
           "+1",
           0,
           0,
           "+1",
           0,
           "+2",
           "+1",
           "+2"
          ],
          [
           -2,
           "+1",
           -3,
           -1,
           -3,
           0,
           0,
           -4,
           "N/A",
           -2,
           -2,
           "+2",
           0,
           "+2",
           "+4",
           "+3",
           0,
           "+1",
           "+1",
           0,
           "+7",
           "+1",
           "+4"
          ],
          [
           -1,
           -1,
           -5,
           -5,
           -1,
           -1,
           0,
           -2,
           "+2",
           "N/A",
           "+1",
           "+1",
           "+2",
           "+2",
           "+3",
           "+2",
           0,
           "+1",
           0,
           "+1",
           "+3",
           0,
           "+5"
          ],
          [
           -2,
           -2,
           -1,
           0,
           -3,
           -1,
           -1,
           "+1",
           "+2",
           -1,
           "N/A",
           -1,
           0,
           0,
           0,
           0,
           0,
           "+2",
           "+1",
           "+1",
           -1,
           0,
           0
          ],
          [
           -1,
           -3,
           -4,
           -1,
           -3,
           -2,
           -1,
           -1,
           -2,
           -1,
           "+1",
           "N/A",
           0,
           0,
           "+2",
           0,
           0,
           0,
           0,
           "+1",
           "+4",
           0,
           "+2"
          ],
          [
           -2,
           -1,
           -1,
           -1,
           -2,
           0,
           0,
           0,
           0,
           -2,
           0,
           0,
           "N/A",
           0,
           "+2",
           0,
           0,
           "+1",
           0,
           "+1",
           "+1",
           "+1",
           0
          ],
          [
           -1,
           -1,
           0,
           0,
           0,
           0,
           0,
           0,
           -2,
           -2,
           0,
           0,
           0,
           "N/A",
           "+1",
           0,
           0,
           -1,
           "+1",
           0,
           "+1",
           0,
           "+1"
          ],
          [
           -4,
           -5,
           -1,
           -1,
           -1,
           -1,
           -1,
           0,
           -4,
           -3,
           0,
           -2,
           -2,
           -1,
           "N/A",
           "+1",
           0,
           0,
           0,
           0,
           0,
           "+1",
           "+3"
          ],
          [
           0,
           -1,
           -1,
           -1,
           -3,
           0,
           0,
           -1,
           -3,
           -2,
           0,
           0,
           0,
           0,
           -1,
           "N/A",
           -1,
           0,
           "+1",
           0,
           "+1",
           "+1",
           "+1"
          ],
          [
           -1,
           -1,
           -1,
           -1,
           -1,
           0,
           -1,
           0,
           0,
           0,
           0,
           0,
           0,
           0,
           0,
           "+1",
           "N/A",
           0,
           "+1",
           0,
           0,
           0,
           "+1"
          ],
          [
           -1,
           0,
           0,
           -2,
           -1,
           -1,
           0,
           0,
           -1,
           -1,
           -2,
           0,
           -1,
           "+1",
           0,
           0,
           0,
           "N/A",
           0,
           "+2",
           0,
           0,
           "+1"
          ],
          [
           0,
           -1,
           -1,
           -1,
           -1,
           0,
           0,
           -1,
           -1,
           0,
           -1,
           0,
           0,
           -1,
           0,
           -1,
           -1,
           0,
           "N/A",
           "+1",
           0,
           0,
           0
          ],
          [
           -1,
           0,
           -2,
           -3,
           -3,
           0,
           0,
           0,
           0,
           -1,
           -1,
           -1,
           -1,
           0,
           0,
           0,
           0,
           -2,
           -1,
           "N/A",
           "+1",
           0,
           "+2"
          ],
          [
           0,
           -3,
           -1,
           -2,
           -3,
           -2,
           -1,
           -2,
           -7,
           -3,
           "+1",
           -4,
           -1,
           -1,
           0,
           -1,
           0,
           0,
           0,
           -1,
           "N/A",
           0,
           "+1"
          ],
          [
           -1,
           0,
           0,
           -1,
           0,
           -1,
           0,
           -1,
           -1,
           0,
           0,
           0,
           -1,
           0,
           -1,
           -1,
           0,
           0,
           0,
           0,
           0,
           "N/A",
           0
          ],
          [
           -1,
           -1,
           -2,
           -2,
           -1,
           0,
           -1,
           -2,
           -4,
           -5,
           0,
           -2,
           0,
           -1,
           -3,
           -1,
           -1,
           -1,
           0,
           -2,
           -1,
           0,
           "N/A"
          ]
         ],
         "hovertemplate": "Player: %{y}<br>Opponent: %{x}<br>Set Differental: %{customdata}<br>",
         "name": "0",
         "type": "heatmap",
         "x": [
          "Samurai",
          "Eyas",
          "Sophist",
          "Kaiju",
          "ICHIGO",
          "CHICO",
          "Pidgeon",
          "Shinta",
          "TheDood22",
          "Cal",
          "mjmd",
          "bellyache",
          "DrMichaelBay",
          "Frog Lady",
          "Thumbs",
          "Payday",
          "The_Verminator",
          "Zxtra",
          "Lv.3 Asian",
          "Rainstorm",
          "goober",
          "TDollas",
          "Helix"
         ],
         "xaxis": "x",
         "y": [
          "Samurai",
          "Eyas",
          "Sophist",
          "Kaiju",
          "ICHIGO",
          "CHICO",
          "Pidgeon",
          "Shinta",
          "TheDood22",
          "Cal",
          "mjmd",
          "bellyache",
          "DrMichaelBay",
          "Frog Lady",
          "Thumbs",
          "Payday",
          "The_Verminator",
          "Zxtra",
          "Lv.3 Asian",
          "Rainstorm",
          "goober",
          "TDollas",
          "Helix"
         ],
         "yaxis": "y",
         "z": [
          [
           null,
           3,
           1,
           4,
           6,
           -3,
           1,
           3,
           2,
           1,
           2,
           1,
           2,
           1,
           4,
           0,
           1,
           1,
           0,
           1,
           0,
           1,
           1
          ],
          [
           -3,
           null,
           4,
           4,
           0,
           4,
           0,
           1,
           -1,
           1,
           2,
           3,
           1,
           1,
           5,
           1,
           1,
           0,
           1,
           0,
           3,
           0,
           1
          ],
          [
           -1,
           -4,
           null,
           -4,
           4,
           1,
           1,
           5,
           3,
           5,
           1,
           4,
           1,
           0,
           1,
           1,
           1,
           0,
           1,
           2,
           1,
           0,
           2
          ],
          [
           -4,
           -4,
           4,
           null,
           -2,
           1,
           0,
           2,
           1,
           5,
           0,
           1,
           1,
           0,
           1,
           1,
           1,
           2,
           1,
           3,
           2,
           1,
           2
          ],
          [
           -6,
           0,
           -4,
           2,
           null,
           0,
           -1,
           0,
           3,
           1,
           3,
           3,
           2,
           0,
           1,
           3,
           1,
           1,
           1,
           3,
           3,
           0,
           1
          ],
          [
           3,
           -4,
           -1,
           -1,
           0,
           null,
           2,
           0,
           0,
           1,
           1,
           2,
           0,
           0,
           1,
           0,
           0,
           1,
           0,
           0,
           2,
           1,
           0
          ],
          [
           -1,
           0,
           -1,
           0,
           1,
           -2,
           null,
           0,
           0,
           0,
           1,
           1,
           0,
           0,
           1,
           0,
           1,
           0,
           0,
           0,
           1,
           0,
           1
          ],
          [
           -3,
           -1,
           -5,
           -2,
           0,
           0,
           0,
           null,
           4,
           2,
           -1,
           1,
           0,
           0,
           0,
           1,
           0,
           0,
           1,
           0,
           2,
           1,
           2
          ],
          [
           -2,
           1,
           -3,
           -1,
           -3,
           0,
           0,
           -4,
           null,
           -2,
           -2,
           2,
           0,
           2,
           4,
           3,
           0,
           1,
           1,
           0,
           7,
           1,
           4
          ],
          [
           -1,
           -1,
           -5,
           -5,
           -1,
           -1,
           0,
           -2,
           2,
           null,
           1,
           1,
           2,
           2,
           3,
           2,
           0,
           1,
           0,
           1,
           3,
           0,
           5
          ],
          [
           -2,
           -2,
           -1,
           0,
           -3,
           -1,
           -1,
           1,
           2,
           -1,
           null,
           -1,
           0,
           0,
           0,
           0,
           0,
           2,
           1,
           1,
           -1,
           0,
           0
          ],
          [
           -1,
           -3,
           -4,
           -1,
           -3,
           -2,
           -1,
           -1,
           -2,
           -1,
           1,
           null,
           0,
           0,
           2,
           0,
           0,
           0,
           0,
           1,
           4,
           0,
           2
          ],
          [
           -2,
           -1,
           -1,
           -1,
           -2,
           0,
           0,
           0,
           0,
           -2,
           0,
           0,
           null,
           0,
           2,
           0,
           0,
           1,
           0,
           1,
           1,
           1,
           0
          ],
          [
           -1,
           -1,
           0,
           0,
           0,
           0,
           0,
           0,
           -2,
           -2,
           0,
           0,
           0,
           null,
           1,
           0,
           0,
           -1,
           1,
           0,
           1,
           0,
           1
          ],
          [
           -4,
           -5,
           -1,
           -1,
           -1,
           -1,
           -1,
           0,
           -4,
           -3,
           0,
           -2,
           -2,
           -1,
           null,
           1,
           0,
           0,
           0,
           0,
           0,
           1,
           3
          ],
          [
           0,
           -1,
           -1,
           -1,
           -3,
           0,
           0,
           -1,
           -3,
           -2,
           0,
           0,
           0,
           0,
           -1,
           null,
           -1,
           0,
           1,
           0,
           1,
           1,
           1
          ],
          [
           -1,
           -1,
           -1,
           -1,
           -1,
           0,
           -1,
           0,
           0,
           0,
           0,
           0,
           0,
           0,
           0,
           1,
           null,
           0,
           1,
           0,
           0,
           0,
           1
          ],
          [
           -1,
           0,
           0,
           -2,
           -1,
           -1,
           0,
           0,
           -1,
           -1,
           -2,
           0,
           -1,
           1,
           0,
           0,
           0,
           null,
           0,
           2,
           0,
           0,
           1
          ],
          [
           0,
           -1,
           -1,
           -1,
           -1,
           0,
           0,
           -1,
           -1,
           0,
           -1,
           0,
           0,
           -1,
           0,
           -1,
           -1,
           0,
           null,
           1,
           0,
           0,
           0
          ],
          [
           -1,
           0,
           -2,
           -3,
           -3,
           0,
           0,
           0,
           0,
           -1,
           -1,
           -1,
           -1,
           0,
           0,
           0,
           0,
           -2,
           -1,
           null,
           1,
           0,
           2
          ],
          [
           0,
           -3,
           -1,
           -2,
           -3,
           -2,
           -1,
           -2,
           -7,
           -3,
           1,
           -4,
           -1,
           -1,
           0,
           -1,
           0,
           0,
           0,
           -1,
           null,
           0,
           1
          ],
          [
           -1,
           0,
           0,
           -1,
           0,
           -1,
           0,
           -1,
           -1,
           0,
           0,
           0,
           -1,
           0,
           -1,
           -1,
           0,
           0,
           0,
           0,
           0,
           null,
           0
          ],
          [
           -1,
           -1,
           -2,
           -2,
           -1,
           0,
           -1,
           -2,
           -4,
           -5,
           0,
           -2,
           0,
           -1,
           -3,
           -1,
           -1,
           -1,
           0,
           -2,
           -1,
           0,
           null
          ]
         ]
        }
       ],
       "layout": {
        "coloraxis": {
         "colorscale": [
          [
           0,
           "rgb(5,48,97)"
          ],
          [
           0.1,
           "rgb(33,102,172)"
          ],
          [
           0.2,
           "rgb(67,147,195)"
          ],
          [
           0.3,
           "rgb(146,197,222)"
          ],
          [
           0.4,
           "rgb(209,229,240)"
          ],
          [
           0.5,
           "rgb(247,247,247)"
          ],
          [
           0.6,
           "rgb(253,219,199)"
          ],
          [
           0.7,
           "rgb(244,165,130)"
          ],
          [
           0.8,
           "rgb(214,96,77)"
          ],
          [
           0.9,
           "rgb(178,24,43)"
          ],
          [
           1,
           "rgb(103,0,31)"
          ]
         ]
        },
        "height": 800,
        "margin": {
         "t": 60
        },
        "template": {
         "data": {
          "bar": [
           {
            "error_x": {
             "color": "#f2f5fa"
            },
            "error_y": {
             "color": "#f2f5fa"
            },
            "marker": {
             "line": {
              "color": "rgb(17,17,17)",
              "width": 0.5
             },
             "pattern": {
              "fillmode": "overlay",
              "size": 10,
              "solidity": 0.2
             }
            },
            "type": "bar"
           }
          ],
          "barpolar": [
           {
            "marker": {
             "line": {
              "color": "rgb(17,17,17)",
              "width": 0.5
             },
             "pattern": {
              "fillmode": "overlay",
              "size": 10,
              "solidity": 0.2
             }
            },
            "type": "barpolar"
           }
          ],
          "carpet": [
           {
            "aaxis": {
             "endlinecolor": "#A2B1C6",
             "gridcolor": "#506784",
             "linecolor": "#506784",
             "minorgridcolor": "#506784",
             "startlinecolor": "#A2B1C6"
            },
            "baxis": {
             "endlinecolor": "#A2B1C6",
             "gridcolor": "#506784",
             "linecolor": "#506784",
             "minorgridcolor": "#506784",
             "startlinecolor": "#A2B1C6"
            },
            "type": "carpet"
           }
          ],
          "choropleth": [
           {
            "colorbar": {
             "outlinewidth": 0,
             "ticks": ""
            },
            "type": "choropleth"
           }
          ],
          "contour": [
           {
            "colorbar": {
             "outlinewidth": 0,
             "ticks": ""
            },
            "colorscale": [
             [
              0,
              "#0d0887"
             ],
             [
              0.1111111111111111,
              "#46039f"
             ],
             [
              0.2222222222222222,
              "#7201a8"
             ],
             [
              0.3333333333333333,
              "#9c179e"
             ],
             [
              0.4444444444444444,
              "#bd3786"
             ],
             [
              0.5555555555555556,
              "#d8576b"
             ],
             [
              0.6666666666666666,
              "#ed7953"
             ],
             [
              0.7777777777777778,
              "#fb9f3a"
             ],
             [
              0.8888888888888888,
              "#fdca26"
             ],
             [
              1,
              "#f0f921"
             ]
            ],
            "type": "contour"
           }
          ],
          "contourcarpet": [
           {
            "colorbar": {
             "outlinewidth": 0,
             "ticks": ""
            },
            "type": "contourcarpet"
           }
          ],
          "heatmap": [
           {
            "colorbar": {
             "outlinewidth": 0,
             "ticks": ""
            },
            "colorscale": [
             [
              0,
              "#0d0887"
             ],
             [
              0.1111111111111111,
              "#46039f"
             ],
             [
              0.2222222222222222,
              "#7201a8"
             ],
             [
              0.3333333333333333,
              "#9c179e"
             ],
             [
              0.4444444444444444,
              "#bd3786"
             ],
             [
              0.5555555555555556,
              "#d8576b"
             ],
             [
              0.6666666666666666,
              "#ed7953"
             ],
             [
              0.7777777777777778,
              "#fb9f3a"
             ],
             [
              0.8888888888888888,
              "#fdca26"
             ],
             [
              1,
              "#f0f921"
             ]
            ],
            "type": "heatmap"
           }
          ],
          "heatmapgl": [
           {
            "colorbar": {
             "outlinewidth": 0,
             "ticks": ""
            },
            "colorscale": [
             [
              0,
              "#0d0887"
             ],
             [
              0.1111111111111111,
              "#46039f"
             ],
             [
              0.2222222222222222,
              "#7201a8"
             ],
             [
              0.3333333333333333,
              "#9c179e"
             ],
             [
              0.4444444444444444,
              "#bd3786"
             ],
             [
              0.5555555555555556,
              "#d8576b"
             ],
             [
              0.6666666666666666,
              "#ed7953"
             ],
             [
              0.7777777777777778,
              "#fb9f3a"
             ],
             [
              0.8888888888888888,
              "#fdca26"
             ],
             [
              1,
              "#f0f921"
             ]
            ],
            "type": "heatmapgl"
           }
          ],
          "histogram": [
           {
            "marker": {
             "pattern": {
              "fillmode": "overlay",
              "size": 10,
              "solidity": 0.2
             }
            },
            "type": "histogram"
           }
          ],
          "histogram2d": [
           {
            "colorbar": {
             "outlinewidth": 0,
             "ticks": ""
            },
            "colorscale": [
             [
              0,
              "#0d0887"
             ],
             [
              0.1111111111111111,
              "#46039f"
             ],
             [
              0.2222222222222222,
              "#7201a8"
             ],
             [
              0.3333333333333333,
              "#9c179e"
             ],
             [
              0.4444444444444444,
              "#bd3786"
             ],
             [
              0.5555555555555556,
              "#d8576b"
             ],
             [
              0.6666666666666666,
              "#ed7953"
             ],
             [
              0.7777777777777778,
              "#fb9f3a"
             ],
             [
              0.8888888888888888,
              "#fdca26"
             ],
             [
              1,
              "#f0f921"
             ]
            ],
            "type": "histogram2d"
           }
          ],
          "histogram2dcontour": [
           {
            "colorbar": {
             "outlinewidth": 0,
             "ticks": ""
            },
            "colorscale": [
             [
              0,
              "#0d0887"
             ],
             [
              0.1111111111111111,
              "#46039f"
             ],
             [
              0.2222222222222222,
              "#7201a8"
             ],
             [
              0.3333333333333333,
              "#9c179e"
             ],
             [
              0.4444444444444444,
              "#bd3786"
             ],
             [
              0.5555555555555556,
              "#d8576b"
             ],
             [
              0.6666666666666666,
              "#ed7953"
             ],
             [
              0.7777777777777778,
              "#fb9f3a"
             ],
             [
              0.8888888888888888,
              "#fdca26"
             ],
             [
              1,
              "#f0f921"
             ]
            ],
            "type": "histogram2dcontour"
           }
          ],
          "mesh3d": [
           {
            "colorbar": {
             "outlinewidth": 0,
             "ticks": ""
            },
            "type": "mesh3d"
           }
          ],
          "parcoords": [
           {
            "line": {
             "colorbar": {
              "outlinewidth": 0,
              "ticks": ""
             }
            },
            "type": "parcoords"
           }
          ],
          "pie": [
           {
            "automargin": true,
            "type": "pie"
           }
          ],
          "scatter": [
           {
            "marker": {
             "line": {
              "color": "#283442"
             }
            },
            "type": "scatter"
           }
          ],
          "scatter3d": [
           {
            "line": {
             "colorbar": {
              "outlinewidth": 0,
              "ticks": ""
             }
            },
            "marker": {
             "colorbar": {
              "outlinewidth": 0,
              "ticks": ""
             }
            },
            "type": "scatter3d"
           }
          ],
          "scattercarpet": [
           {
            "marker": {
             "colorbar": {
              "outlinewidth": 0,
              "ticks": ""
             }
            },
            "type": "scattercarpet"
           }
          ],
          "scattergeo": [
           {
            "marker": {
             "colorbar": {
              "outlinewidth": 0,
              "ticks": ""
             }
            },
            "type": "scattergeo"
           }
          ],
          "scattergl": [
           {
            "marker": {
             "line": {
              "color": "#283442"
             }
            },
            "type": "scattergl"
           }
          ],
          "scattermapbox": [
           {
            "marker": {
             "colorbar": {
              "outlinewidth": 0,
              "ticks": ""
             }
            },
            "type": "scattermapbox"
           }
          ],
          "scatterpolar": [
           {
            "marker": {
             "colorbar": {
              "outlinewidth": 0,
              "ticks": ""
             }
            },
            "type": "scatterpolar"
           }
          ],
          "scatterpolargl": [
           {
            "marker": {
             "colorbar": {
              "outlinewidth": 0,
              "ticks": ""
             }
            },
            "type": "scatterpolargl"
           }
          ],
          "scatterternary": [
           {
            "marker": {
             "colorbar": {
              "outlinewidth": 0,
              "ticks": ""
             }
            },
            "type": "scatterternary"
           }
          ],
          "surface": [
           {
            "colorbar": {
             "outlinewidth": 0,
             "ticks": ""
            },
            "colorscale": [
             [
              0,
              "#0d0887"
             ],
             [
              0.1111111111111111,
              "#46039f"
             ],
             [
              0.2222222222222222,
              "#7201a8"
             ],
             [
              0.3333333333333333,
              "#9c179e"
             ],
             [
              0.4444444444444444,
              "#bd3786"
             ],
             [
              0.5555555555555556,
              "#d8576b"
             ],
             [
              0.6666666666666666,
              "#ed7953"
             ],
             [
              0.7777777777777778,
              "#fb9f3a"
             ],
             [
              0.8888888888888888,
              "#fdca26"
             ],
             [
              1,
              "#f0f921"
             ]
            ],
            "type": "surface"
           }
          ],
          "table": [
           {
            "cells": {
             "fill": {
              "color": "#506784"
             },
             "line": {
              "color": "rgb(17,17,17)"
             }
            },
            "header": {
             "fill": {
              "color": "#2a3f5f"
             },
             "line": {
              "color": "rgb(17,17,17)"
             }
            },
            "type": "table"
           }
          ]
         },
         "layout": {
          "annotationdefaults": {
           "arrowcolor": "#f2f5fa",
           "arrowhead": 0,
           "arrowwidth": 1
          },
          "autotypenumbers": "strict",
          "coloraxis": {
           "colorbar": {
            "outlinewidth": 0,
            "ticks": ""
           }
          },
          "colorscale": {
           "diverging": [
            [
             0,
             "#8e0152"
            ],
            [
             0.1,
             "#c51b7d"
            ],
            [
             0.2,
             "#de77ae"
            ],
            [
             0.3,
             "#f1b6da"
            ],
            [
             0.4,
             "#fde0ef"
            ],
            [
             0.5,
             "#f7f7f7"
            ],
            [
             0.6,
             "#e6f5d0"
            ],
            [
             0.7,
             "#b8e186"
            ],
            [
             0.8,
             "#7fbc41"
            ],
            [
             0.9,
             "#4d9221"
            ],
            [
             1,
             "#276419"
            ]
           ],
           "sequential": [
            [
             0,
             "#0d0887"
            ],
            [
             0.1111111111111111,
             "#46039f"
            ],
            [
             0.2222222222222222,
             "#7201a8"
            ],
            [
             0.3333333333333333,
             "#9c179e"
            ],
            [
             0.4444444444444444,
             "#bd3786"
            ],
            [
             0.5555555555555556,
             "#d8576b"
            ],
            [
             0.6666666666666666,
             "#ed7953"
            ],
            [
             0.7777777777777778,
             "#fb9f3a"
            ],
            [
             0.8888888888888888,
             "#fdca26"
            ],
            [
             1,
             "#f0f921"
            ]
           ],
           "sequentialminus": [
            [
             0,
             "#0d0887"
            ],
            [
             0.1111111111111111,
             "#46039f"
            ],
            [
             0.2222222222222222,
             "#7201a8"
            ],
            [
             0.3333333333333333,
             "#9c179e"
            ],
            [
             0.4444444444444444,
             "#bd3786"
            ],
            [
             0.5555555555555556,
             "#d8576b"
            ],
            [
             0.6666666666666666,
             "#ed7953"
            ],
            [
             0.7777777777777778,
             "#fb9f3a"
            ],
            [
             0.8888888888888888,
             "#fdca26"
            ],
            [
             1,
             "#f0f921"
            ]
           ]
          },
          "colorway": [
           "#636efa",
           "#EF553B",
           "#00cc96",
           "#ab63fa",
           "#FFA15A",
           "#19d3f3",
           "#FF6692",
           "#B6E880",
           "#FF97FF",
           "#FECB52"
          ],
          "font": {
           "color": "#f2f5fa"
          },
          "geo": {
           "bgcolor": "rgb(17,17,17)",
           "lakecolor": "rgb(17,17,17)",
           "landcolor": "rgb(17,17,17)",
           "showlakes": true,
           "showland": true,
           "subunitcolor": "#506784"
          },
          "hoverlabel": {
           "align": "left"
          },
          "hovermode": "closest",
          "mapbox": {
           "style": "dark"
          },
          "paper_bgcolor": "rgb(17,17,17)",
          "plot_bgcolor": "rgb(17,17,17)",
          "polar": {
           "angularaxis": {
            "gridcolor": "#506784",
            "linecolor": "#506784",
            "ticks": ""
           },
           "bgcolor": "rgb(17,17,17)",
           "radialaxis": {
            "gridcolor": "#506784",
            "linecolor": "#506784",
            "ticks": ""
           }
          },
          "scene": {
           "xaxis": {
            "backgroundcolor": "rgb(17,17,17)",
            "gridcolor": "#506784",
            "gridwidth": 2,
            "linecolor": "#506784",
            "showbackground": true,
            "ticks": "",
            "zerolinecolor": "#C8D4E3"
           },
           "yaxis": {
            "backgroundcolor": "rgb(17,17,17)",
            "gridcolor": "#506784",
            "gridwidth": 2,
            "linecolor": "#506784",
            "showbackground": true,
            "ticks": "",
            "zerolinecolor": "#C8D4E3"
           },
           "zaxis": {
            "backgroundcolor": "rgb(17,17,17)",
            "gridcolor": "#506784",
            "gridwidth": 2,
            "linecolor": "#506784",
            "showbackground": true,
            "ticks": "",
            "zerolinecolor": "#C8D4E3"
           }
          },
          "shapedefaults": {
           "line": {
            "color": "#f2f5fa"
           }
          },
          "sliderdefaults": {
           "bgcolor": "#C8D4E3",
           "bordercolor": "rgb(17,17,17)",
           "borderwidth": 1,
           "tickwidth": 0
          },
          "ternary": {
           "aaxis": {
            "gridcolor": "#506784",
            "linecolor": "#506784",
            "ticks": ""
           },
           "baxis": {
            "gridcolor": "#506784",
            "linecolor": "#506784",
            "ticks": ""
           },
           "bgcolor": "rgb(17,17,17)",
           "caxis": {
            "gridcolor": "#506784",
            "linecolor": "#506784",
            "ticks": ""
           }
          },
          "title": {
           "x": 0.05
          },
          "updatemenudefaults": {
           "bgcolor": "#506784",
           "borderwidth": 0
          },
          "xaxis": {
           "automargin": true,
           "gridcolor": "#283442",
           "linecolor": "#506784",
           "ticks": "",
           "title": {
            "standoff": 15
           },
           "zerolinecolor": "#283442",
           "zerolinewidth": 2
          },
          "yaxis": {
           "automargin": true,
           "gridcolor": "#283442",
           "linecolor": "#506784",
           "ticks": "",
           "title": {
            "standoff": 15
           },
           "zerolinecolor": "#283442",
           "zerolinewidth": 2
          }
         }
        },
        "title": {
         "text": "Cream City Clash Head To Head Heat Map"
        },
        "width": 1000,
        "xaxis": {
         "anchor": "y",
         "domain": [
          0,
          1
         ],
         "side": "top",
         "tickangle": -45,
         "title": {
          "text": "Opponent"
         }
        },
        "yaxis": {
         "anchor": "x",
         "autorange": "reversed",
         "categoryarray": [
          "Samurai",
          "Eyas",
          "Sophist",
          "Kaiju",
          "ICHIGO",
          "CHICO",
          "Pidgeon",
          "Shinta",
          "TheDood22",
          "Cal",
          "mjmd",
          "bellyache",
          "DrMichaelBay",
          "Frog Lady",
          "Thumbs",
          "Payday",
          "The_Verminator",
          "Zxtra",
          "Lv.3 Asian",
          "Rainstorm",
          "goober",
          "TDollas",
          "Helix"
         ],
         "categoryorder": "array",
         "domain": [
          0,
          1
         ],
         "title": {
          "text": "Player"
         }
        }
       }
      }
     },
     "metadata": {},
     "output_type": "display_data"
    }
   ],
   "source": [
    "import plotly.express as px\n",
    "import pandas as pd\n",
    "import numpy as np \n",
    "\n",
    "# Read data from the main CSV file (Heatmap Data)\n",
    "wl_file_path = \"C:\\\\Users\\\\eyas1\\\\OneDrive\\\\Desktop\\\\UWM fall 2023 Smash Data\\\\REAL Cream City Clash Fall 2023 H2H Data.csv\"\n",
    "wl_df = pd.read_csv(wl_file_path, index_col=0)  # Assuming the first column is the index\n",
    "\n",
    "\n",
    "# Transpose the DataFrame to switch rows and columns\n",
    "wl_df_transposed = wl_df.T\n",
    "\n",
    "# Create a heatmap using Plotly Express\n",
    "fig = px.imshow(wl_df, color_continuous_scale='RdBu_r', aspect='auto')\n",
    "\n",
    "# Get the list of player names in the order you want them to appear\n",
    "players = wl_df_transposed.index.tolist()\n",
    "\n",
    "# Customize the layout and display the plot\n",
    "fig.update_layout(\n",
    "    title='Cream City Clash Head To Head Heat Map',\n",
    "    xaxis_title='Opponent',\n",
    "    yaxis_title='Player',\n",
    "    yaxis={'categoryorder':'array', 'categoryarray':players},  # Set category order to display Y-axis labels from the top\n",
    "    xaxis_side='top',  # Move X-axis labels to the top\n",
    "    xaxis_tickangle=-45,  # Rotate X-axis labels by 45 degrees counterclockwise\n",
    "    template='plotly_dark',\n",
    "    width=1000,  # Set the desired width\n",
    "    height=800,  # Set the desired height\n",
    ")\n",
    "\n",
    "# Update the hovertemplate to include columns only from sets_played_df\n",
    "fig.update_traces(\n",
    "    hovertemplate='Player: %{y}<br>Opponent: %{x}<br>Set Differental: %{customdata}<br>',\n",
    "    customdata=wl_df.applymap(lambda x: f'+{round(x)}' if np.isfinite(x) and x > 0 else round(x) if np.isfinite(x) else 'N/A').values\n",
    ")\n",
    "\n",
    "# Show the plot\n",
    "fig.show()\n"
   ]
  },
  {
   "cell_type": "code",
   "execution_count": 8,
   "metadata": {},
   "outputs": [
    {
     "data": {
      "application/vnd.plotly.v1+json": {
       "config": {
        "plotlyServerURL": "https://plot.ly"
       },
       "data": [
        {
         "coloraxis": "coloraxis",
         "hovertemplate": "Player: %{y}<br>Opponent: %{x}<br>Sets Played: %{z}<br>",
         "name": "0",
         "type": "heatmap",
         "x": [
          "Samurai",
          "Eyas",
          "Sophist",
          "Kaiju",
          "ICHIGO",
          "CHICO",
          "Pidgeon",
          "Shinta",
          "TheDood22",
          "Cal",
          "mjmd",
          "bellyache",
          "DrMichaelBay",
          "Frog Lady",
          "Thumbs",
          "Payday",
          "The_Verminator",
          "Zxtra",
          "Lv.3 Asian",
          "Rainstorm",
          "goober",
          "TDollas",
          "Helix"
         ],
         "xaxis": "x",
         "y": [
          "Samurai",
          "Eyas",
          "Sophist",
          "Kaiju",
          "ICHIGO",
          "CHICO",
          "Pidgeon",
          "Shinta",
          "TheDood22",
          "Cal",
          "mjmd",
          "bellyache",
          "DrMichaelBay",
          "Frog Lady",
          "Thumbs",
          "Payday",
          "The_Verminator",
          "Zxtra",
          "Lv.3 Asian",
          "Rainstorm",
          "goober",
          "TDollas",
          "Helix"
         ],
         "yaxis": "y",
         "z": [
          [
           null,
           9,
           5,
           4,
           8,
           3,
           1,
           3,
           2,
           5,
           2,
           1,
           2,
           1,
           4,
           0,
           1,
           1,
           0,
           1,
           0,
           1,
           1
          ],
          [
           9,
           null,
           4,
           8,
           4,
           4,
           2,
           1,
           5,
           3,
           2,
           3,
           1,
           1,
           5,
           1,
           1,
           0,
           1,
           0,
           3,
           0,
           1
          ],
          [
           5,
           4,
           null,
           6,
           8,
           1,
           3,
           5,
           3,
           5,
           1,
           4,
           1,
           0,
           1,
           1,
           1,
           0,
           1,
           2,
           1,
           0,
           2
          ],
          [
           4,
           8,
           6,
           null,
           6,
           1,
           0,
           2,
           3,
           5,
           2,
           3,
           1,
           0,
           1,
           1,
           1,
           2,
           1,
           3,
           2,
           1,
           2
          ],
          [
           8,
           4,
           8,
           6,
           null,
           2,
           3,
           2,
           5,
           5,
           3,
           3,
           2,
           0,
           3,
           3,
           1,
           1,
           1,
           3,
           3,
           0,
           1
          ],
          [
           3,
           4,
           1,
           1,
           2,
           null,
           2,
           0,
           2,
           1,
           1,
           2,
           0,
           0,
           1,
           0,
           0,
           1,
           0,
           0,
           2,
           1,
           0
          ],
          [
           1,
           2,
           3,
           0,
           3,
           2,
           null,
           0,
           0,
           2,
           1,
           1,
           2,
           0,
           1,
           0,
           1,
           0,
           0,
           0,
           1,
           0,
           1
          ],
          [
           3,
           1,
           5,
           2,
           2,
           0,
           0,
           null,
           4,
           2,
           1,
           1,
           0,
           0,
           0,
           1,
           0,
           0,
           1,
           0,
           2,
           1,
           2
          ],
          [
           2,
           5,
           3,
           3,
           5,
           2,
           0,
           4,
           null,
           4,
           4,
           4,
           0,
           2,
           4,
           3,
           0,
           1,
           1,
           0,
           7,
           1,
           4
          ],
          [
           5,
           3,
           5,
           5,
           5,
           1,
           2,
           2,
           4,
           null,
           3,
           1,
           2,
           2,
           3,
           2,
           0,
           1,
           0,
           1,
           3,
           0,
           5
          ],
          [
           2,
           2,
           1,
           2,
           3,
           1,
           1,
           1,
           4,
           3,
           null,
           1,
           0,
           0,
           0,
           0,
           0,
           2,
           1,
           1,
           1,
           0,
           0
          ],
          [
           1,
           3,
           4,
           3,
           3,
           2,
           1,
           1,
           4,
           1,
           1,
           null,
           0,
           2,
           2,
           0,
           0,
           0,
           0,
           1,
           4,
           0,
           2
          ],
          [
           2,
           1,
           1,
           1,
           2,
           0,
           2,
           0,
           0,
           2,
           0,
           0,
           null,
           0,
           2,
           0,
           0,
           1,
           0,
           1,
           1,
           1,
           0
          ],
          [
           1,
           1,
           0,
           0,
           0,
           0,
           0,
           0,
           2,
           2,
           0,
           2,
           0,
           null,
           1,
           0,
           0,
           1,
           1,
           0,
           1,
           0,
           1
          ],
          [
           4,
           5,
           1,
           1,
           3,
           1,
           1,
           0,
           4,
           3,
           0,
           2,
           2,
           1,
           null,
           1,
           0,
           0,
           0,
           0,
           0,
           1,
           3
          ],
          [
           0,
           1,
           1,
           1,
           3,
           0,
           0,
           1,
           3,
           2,
           0,
           0,
           0,
           0,
           1,
           null,
           1,
           0,
           1,
           0,
           1,
           1,
           1
          ],
          [
           1,
           1,
           1,
           1,
           1,
           0,
           1,
           0,
           0,
           0,
           0,
           0,
           0,
           0,
           0,
           1,
           null,
           0,
           1,
           0,
           0,
           0,
           1
          ],
          [
           1,
           0,
           0,
           2,
           1,
           1,
           0,
           0,
           1,
           1,
           2,
           0,
           1,
           1,
           0,
           0,
           0,
           null,
           0,
           2,
           0,
           0,
           1
          ],
          [
           0,
           1,
           1,
           1,
           1,
           0,
           0,
           1,
           1,
           0,
           1,
           0,
           0,
           1,
           0,
           1,
           1,
           0,
           null,
           1,
           2,
           0,
           0
          ],
          [
           1,
           0,
           2,
           3,
           3,
           0,
           0,
           0,
           0,
           1,
           1,
           1,
           1,
           0,
           0,
           0,
           0,
           2,
           1,
           null,
           1,
           0,
           2
          ],
          [
           0,
           3,
           1,
           2,
           3,
           2,
           1,
           2,
           7,
           3,
           1,
           4,
           1,
           1,
           0,
           1,
           0,
           0,
           2,
           1,
           null,
           0,
           1
          ],
          [
           1,
           0,
           0,
           1,
           0,
           1,
           0,
           1,
           1,
           0,
           0,
           0,
           1,
           0,
           1,
           1,
           0,
           0,
           0,
           0,
           0,
           null,
           0
          ],
          [
           1,
           1,
           2,
           2,
           1,
           0,
           1,
           2,
           4,
           5,
           0,
           2,
           0,
           1,
           3,
           1,
           1,
           1,
           0,
           2,
           1,
           0,
           null
          ]
         ]
        }
       ],
       "layout": {
        "coloraxis": {
         "colorscale": [
          [
           0,
           "rgb(255,245,240)"
          ],
          [
           0.125,
           "rgb(254,224,210)"
          ],
          [
           0.25,
           "rgb(252,187,161)"
          ],
          [
           0.375,
           "rgb(252,146,114)"
          ],
          [
           0.5,
           "rgb(251,106,74)"
          ],
          [
           0.625,
           "rgb(239,59,44)"
          ],
          [
           0.75,
           "rgb(203,24,29)"
          ],
          [
           0.875,
           "rgb(165,15,21)"
          ],
          [
           1,
           "rgb(103,0,13)"
          ]
         ]
        },
        "height": 800,
        "margin": {
         "t": 60
        },
        "template": {
         "data": {
          "bar": [
           {
            "error_x": {
             "color": "#f2f5fa"
            },
            "error_y": {
             "color": "#f2f5fa"
            },
            "marker": {
             "line": {
              "color": "rgb(17,17,17)",
              "width": 0.5
             },
             "pattern": {
              "fillmode": "overlay",
              "size": 10,
              "solidity": 0.2
             }
            },
            "type": "bar"
           }
          ],
          "barpolar": [
           {
            "marker": {
             "line": {
              "color": "rgb(17,17,17)",
              "width": 0.5
             },
             "pattern": {
              "fillmode": "overlay",
              "size": 10,
              "solidity": 0.2
             }
            },
            "type": "barpolar"
           }
          ],
          "carpet": [
           {
            "aaxis": {
             "endlinecolor": "#A2B1C6",
             "gridcolor": "#506784",
             "linecolor": "#506784",
             "minorgridcolor": "#506784",
             "startlinecolor": "#A2B1C6"
            },
            "baxis": {
             "endlinecolor": "#A2B1C6",
             "gridcolor": "#506784",
             "linecolor": "#506784",
             "minorgridcolor": "#506784",
             "startlinecolor": "#A2B1C6"
            },
            "type": "carpet"
           }
          ],
          "choropleth": [
           {
            "colorbar": {
             "outlinewidth": 0,
             "ticks": ""
            },
            "type": "choropleth"
           }
          ],
          "contour": [
           {
            "colorbar": {
             "outlinewidth": 0,
             "ticks": ""
            },
            "colorscale": [
             [
              0,
              "#0d0887"
             ],
             [
              0.1111111111111111,
              "#46039f"
             ],
             [
              0.2222222222222222,
              "#7201a8"
             ],
             [
              0.3333333333333333,
              "#9c179e"
             ],
             [
              0.4444444444444444,
              "#bd3786"
             ],
             [
              0.5555555555555556,
              "#d8576b"
             ],
             [
              0.6666666666666666,
              "#ed7953"
             ],
             [
              0.7777777777777778,
              "#fb9f3a"
             ],
             [
              0.8888888888888888,
              "#fdca26"
             ],
             [
              1,
              "#f0f921"
             ]
            ],
            "type": "contour"
           }
          ],
          "contourcarpet": [
           {
            "colorbar": {
             "outlinewidth": 0,
             "ticks": ""
            },
            "type": "contourcarpet"
           }
          ],
          "heatmap": [
           {
            "colorbar": {
             "outlinewidth": 0,
             "ticks": ""
            },
            "colorscale": [
             [
              0,
              "#0d0887"
             ],
             [
              0.1111111111111111,
              "#46039f"
             ],
             [
              0.2222222222222222,
              "#7201a8"
             ],
             [
              0.3333333333333333,
              "#9c179e"
             ],
             [
              0.4444444444444444,
              "#bd3786"
             ],
             [
              0.5555555555555556,
              "#d8576b"
             ],
             [
              0.6666666666666666,
              "#ed7953"
             ],
             [
              0.7777777777777778,
              "#fb9f3a"
             ],
             [
              0.8888888888888888,
              "#fdca26"
             ],
             [
              1,
              "#f0f921"
             ]
            ],
            "type": "heatmap"
           }
          ],
          "heatmapgl": [
           {
            "colorbar": {
             "outlinewidth": 0,
             "ticks": ""
            },
            "colorscale": [
             [
              0,
              "#0d0887"
             ],
             [
              0.1111111111111111,
              "#46039f"
             ],
             [
              0.2222222222222222,
              "#7201a8"
             ],
             [
              0.3333333333333333,
              "#9c179e"
             ],
             [
              0.4444444444444444,
              "#bd3786"
             ],
             [
              0.5555555555555556,
              "#d8576b"
             ],
             [
              0.6666666666666666,
              "#ed7953"
             ],
             [
              0.7777777777777778,
              "#fb9f3a"
             ],
             [
              0.8888888888888888,
              "#fdca26"
             ],
             [
              1,
              "#f0f921"
             ]
            ],
            "type": "heatmapgl"
           }
          ],
          "histogram": [
           {
            "marker": {
             "pattern": {
              "fillmode": "overlay",
              "size": 10,
              "solidity": 0.2
             }
            },
            "type": "histogram"
           }
          ],
          "histogram2d": [
           {
            "colorbar": {
             "outlinewidth": 0,
             "ticks": ""
            },
            "colorscale": [
             [
              0,
              "#0d0887"
             ],
             [
              0.1111111111111111,
              "#46039f"
             ],
             [
              0.2222222222222222,
              "#7201a8"
             ],
             [
              0.3333333333333333,
              "#9c179e"
             ],
             [
              0.4444444444444444,
              "#bd3786"
             ],
             [
              0.5555555555555556,
              "#d8576b"
             ],
             [
              0.6666666666666666,
              "#ed7953"
             ],
             [
              0.7777777777777778,
              "#fb9f3a"
             ],
             [
              0.8888888888888888,
              "#fdca26"
             ],
             [
              1,
              "#f0f921"
             ]
            ],
            "type": "histogram2d"
           }
          ],
          "histogram2dcontour": [
           {
            "colorbar": {
             "outlinewidth": 0,
             "ticks": ""
            },
            "colorscale": [
             [
              0,
              "#0d0887"
             ],
             [
              0.1111111111111111,
              "#46039f"
             ],
             [
              0.2222222222222222,
              "#7201a8"
             ],
             [
              0.3333333333333333,
              "#9c179e"
             ],
             [
              0.4444444444444444,
              "#bd3786"
             ],
             [
              0.5555555555555556,
              "#d8576b"
             ],
             [
              0.6666666666666666,
              "#ed7953"
             ],
             [
              0.7777777777777778,
              "#fb9f3a"
             ],
             [
              0.8888888888888888,
              "#fdca26"
             ],
             [
              1,
              "#f0f921"
             ]
            ],
            "type": "histogram2dcontour"
           }
          ],
          "mesh3d": [
           {
            "colorbar": {
             "outlinewidth": 0,
             "ticks": ""
            },
            "type": "mesh3d"
           }
          ],
          "parcoords": [
           {
            "line": {
             "colorbar": {
              "outlinewidth": 0,
              "ticks": ""
             }
            },
            "type": "parcoords"
           }
          ],
          "pie": [
           {
            "automargin": true,
            "type": "pie"
           }
          ],
          "scatter": [
           {
            "marker": {
             "line": {
              "color": "#283442"
             }
            },
            "type": "scatter"
           }
          ],
          "scatter3d": [
           {
            "line": {
             "colorbar": {
              "outlinewidth": 0,
              "ticks": ""
             }
            },
            "marker": {
             "colorbar": {
              "outlinewidth": 0,
              "ticks": ""
             }
            },
            "type": "scatter3d"
           }
          ],
          "scattercarpet": [
           {
            "marker": {
             "colorbar": {
              "outlinewidth": 0,
              "ticks": ""
             }
            },
            "type": "scattercarpet"
           }
          ],
          "scattergeo": [
           {
            "marker": {
             "colorbar": {
              "outlinewidth": 0,
              "ticks": ""
             }
            },
            "type": "scattergeo"
           }
          ],
          "scattergl": [
           {
            "marker": {
             "line": {
              "color": "#283442"
             }
            },
            "type": "scattergl"
           }
          ],
          "scattermapbox": [
           {
            "marker": {
             "colorbar": {
              "outlinewidth": 0,
              "ticks": ""
             }
            },
            "type": "scattermapbox"
           }
          ],
          "scatterpolar": [
           {
            "marker": {
             "colorbar": {
              "outlinewidth": 0,
              "ticks": ""
             }
            },
            "type": "scatterpolar"
           }
          ],
          "scatterpolargl": [
           {
            "marker": {
             "colorbar": {
              "outlinewidth": 0,
              "ticks": ""
             }
            },
            "type": "scatterpolargl"
           }
          ],
          "scatterternary": [
           {
            "marker": {
             "colorbar": {
              "outlinewidth": 0,
              "ticks": ""
             }
            },
            "type": "scatterternary"
           }
          ],
          "surface": [
           {
            "colorbar": {
             "outlinewidth": 0,
             "ticks": ""
            },
            "colorscale": [
             [
              0,
              "#0d0887"
             ],
             [
              0.1111111111111111,
              "#46039f"
             ],
             [
              0.2222222222222222,
              "#7201a8"
             ],
             [
              0.3333333333333333,
              "#9c179e"
             ],
             [
              0.4444444444444444,
              "#bd3786"
             ],
             [
              0.5555555555555556,
              "#d8576b"
             ],
             [
              0.6666666666666666,
              "#ed7953"
             ],
             [
              0.7777777777777778,
              "#fb9f3a"
             ],
             [
              0.8888888888888888,
              "#fdca26"
             ],
             [
              1,
              "#f0f921"
             ]
            ],
            "type": "surface"
           }
          ],
          "table": [
           {
            "cells": {
             "fill": {
              "color": "#506784"
             },
             "line": {
              "color": "rgb(17,17,17)"
             }
            },
            "header": {
             "fill": {
              "color": "#2a3f5f"
             },
             "line": {
              "color": "rgb(17,17,17)"
             }
            },
            "type": "table"
           }
          ]
         },
         "layout": {
          "annotationdefaults": {
           "arrowcolor": "#f2f5fa",
           "arrowhead": 0,
           "arrowwidth": 1
          },
          "autotypenumbers": "strict",
          "coloraxis": {
           "colorbar": {
            "outlinewidth": 0,
            "ticks": ""
           }
          },
          "colorscale": {
           "diverging": [
            [
             0,
             "#8e0152"
            ],
            [
             0.1,
             "#c51b7d"
            ],
            [
             0.2,
             "#de77ae"
            ],
            [
             0.3,
             "#f1b6da"
            ],
            [
             0.4,
             "#fde0ef"
            ],
            [
             0.5,
             "#f7f7f7"
            ],
            [
             0.6,
             "#e6f5d0"
            ],
            [
             0.7,
             "#b8e186"
            ],
            [
             0.8,
             "#7fbc41"
            ],
            [
             0.9,
             "#4d9221"
            ],
            [
             1,
             "#276419"
            ]
           ],
           "sequential": [
            [
             0,
             "#0d0887"
            ],
            [
             0.1111111111111111,
             "#46039f"
            ],
            [
             0.2222222222222222,
             "#7201a8"
            ],
            [
             0.3333333333333333,
             "#9c179e"
            ],
            [
             0.4444444444444444,
             "#bd3786"
            ],
            [
             0.5555555555555556,
             "#d8576b"
            ],
            [
             0.6666666666666666,
             "#ed7953"
            ],
            [
             0.7777777777777778,
             "#fb9f3a"
            ],
            [
             0.8888888888888888,
             "#fdca26"
            ],
            [
             1,
             "#f0f921"
            ]
           ],
           "sequentialminus": [
            [
             0,
             "#0d0887"
            ],
            [
             0.1111111111111111,
             "#46039f"
            ],
            [
             0.2222222222222222,
             "#7201a8"
            ],
            [
             0.3333333333333333,
             "#9c179e"
            ],
            [
             0.4444444444444444,
             "#bd3786"
            ],
            [
             0.5555555555555556,
             "#d8576b"
            ],
            [
             0.6666666666666666,
             "#ed7953"
            ],
            [
             0.7777777777777778,
             "#fb9f3a"
            ],
            [
             0.8888888888888888,
             "#fdca26"
            ],
            [
             1,
             "#f0f921"
            ]
           ]
          },
          "colorway": [
           "#636efa",
           "#EF553B",
           "#00cc96",
           "#ab63fa",
           "#FFA15A",
           "#19d3f3",
           "#FF6692",
           "#B6E880",
           "#FF97FF",
           "#FECB52"
          ],
          "font": {
           "color": "#f2f5fa"
          },
          "geo": {
           "bgcolor": "rgb(17,17,17)",
           "lakecolor": "rgb(17,17,17)",
           "landcolor": "rgb(17,17,17)",
           "showlakes": true,
           "showland": true,
           "subunitcolor": "#506784"
          },
          "hoverlabel": {
           "align": "left"
          },
          "hovermode": "closest",
          "mapbox": {
           "style": "dark"
          },
          "paper_bgcolor": "rgb(17,17,17)",
          "plot_bgcolor": "rgb(17,17,17)",
          "polar": {
           "angularaxis": {
            "gridcolor": "#506784",
            "linecolor": "#506784",
            "ticks": ""
           },
           "bgcolor": "rgb(17,17,17)",
           "radialaxis": {
            "gridcolor": "#506784",
            "linecolor": "#506784",
            "ticks": ""
           }
          },
          "scene": {
           "xaxis": {
            "backgroundcolor": "rgb(17,17,17)",
            "gridcolor": "#506784",
            "gridwidth": 2,
            "linecolor": "#506784",
            "showbackground": true,
            "ticks": "",
            "zerolinecolor": "#C8D4E3"
           },
           "yaxis": {
            "backgroundcolor": "rgb(17,17,17)",
            "gridcolor": "#506784",
            "gridwidth": 2,
            "linecolor": "#506784",
            "showbackground": true,
            "ticks": "",
            "zerolinecolor": "#C8D4E3"
           },
           "zaxis": {
            "backgroundcolor": "rgb(17,17,17)",
            "gridcolor": "#506784",
            "gridwidth": 2,
            "linecolor": "#506784",
            "showbackground": true,
            "ticks": "",
            "zerolinecolor": "#C8D4E3"
           }
          },
          "shapedefaults": {
           "line": {
            "color": "#f2f5fa"
           }
          },
          "sliderdefaults": {
           "bgcolor": "#C8D4E3",
           "bordercolor": "rgb(17,17,17)",
           "borderwidth": 1,
           "tickwidth": 0
          },
          "ternary": {
           "aaxis": {
            "gridcolor": "#506784",
            "linecolor": "#506784",
            "ticks": ""
           },
           "baxis": {
            "gridcolor": "#506784",
            "linecolor": "#506784",
            "ticks": ""
           },
           "bgcolor": "rgb(17,17,17)",
           "caxis": {
            "gridcolor": "#506784",
            "linecolor": "#506784",
            "ticks": ""
           }
          },
          "title": {
           "x": 0.05
          },
          "updatemenudefaults": {
           "bgcolor": "#506784",
           "borderwidth": 0
          },
          "xaxis": {
           "automargin": true,
           "gridcolor": "#283442",
           "linecolor": "#506784",
           "ticks": "",
           "title": {
            "standoff": 15
           },
           "zerolinecolor": "#283442",
           "zerolinewidth": 2
          },
          "yaxis": {
           "automargin": true,
           "gridcolor": "#283442",
           "linecolor": "#506784",
           "ticks": "",
           "title": {
            "standoff": 15
           },
           "zerolinecolor": "#283442",
           "zerolinewidth": 2
          }
         }
        },
        "title": {
         "text": "Cream City Clash Head To Head Heat Map"
        },
        "width": 1000,
        "xaxis": {
         "anchor": "y",
         "domain": [
          0,
          1
         ],
         "side": "top",
         "tickangle": -45,
         "title": {
          "text": "Opponent"
         }
        },
        "yaxis": {
         "anchor": "x",
         "autorange": "reversed",
         "categoryarray": [
          "Samurai",
          "Eyas",
          "Sophist",
          "Kaiju",
          "ICHIGO",
          "CHICO",
          "Pidgeon",
          "Shinta",
          "TheDood22",
          "Cal",
          "mjmd",
          "bellyache",
          "DrMichaelBay",
          "Frog Lady",
          "Thumbs",
          "Payday",
          "The_Verminator",
          "Zxtra",
          "Lv.3 Asian",
          "Rainstorm",
          "goober",
          "TDollas",
          "Helix"
         ],
         "categoryorder": "array",
         "domain": [
          0,
          1
         ],
         "title": {
          "text": "Player"
         }
        }
       }
      }
     },
     "metadata": {},
     "output_type": "display_data"
    }
   ],
   "source": [
    "import plotly.express as px\n",
    "import pandas as pd\n",
    "import numpy as np \n",
    "\n",
    "# Read data from the main CSV file (Heatmap Data)\n",
    "wl_file_path = \"C:\\\\Users\\\\eyas1\\\\OneDrive\\\\Desktop\\\\UWM fall 2023 Smash Data\\\\REAL Total Sets Played Cream City Clash Fall 2023 H2H REAL.csv\"\n",
    "wl_df = pd.read_csv(wl_file_path, index_col=0)  # Assuming the first column is the index\n",
    "\n",
    "\n",
    "# Transpose the DataFrame to switch rows and columns\n",
    "wl_df_transposed = wl_df.T\n",
    "\n",
    "# Create a heatmap using Plotly Express\n",
    "fig = px.imshow(wl_df, color_continuous_scale='reds', aspect='auto')\n",
    "\n",
    "# Get the list of player names in the order you want them to appear\n",
    "players = wl_df_transposed.index.tolist()\n",
    "\n",
    "# Customize the layout and display the plot\n",
    "fig.update_layout(\n",
    "    title='Cream City Clash Head To Head Heat Map',\n",
    "    xaxis_title='Opponent',\n",
    "    yaxis_title='Player',\n",
    "    yaxis={'categoryorder':'array', 'categoryarray':players},  # Set category order to display Y-axis labels from the top\n",
    "    xaxis_side='top',  # Move X-axis labels to the top\n",
    "    xaxis_tickangle=-45,  # Rotate X-axis labels by 45 degrees counterclockwise\n",
    "    template='plotly_dark',\n",
    "    width=1000,  # Set the desired width\n",
    "    height=800,  # Set the desired height\n",
    ")\n",
    "\n",
    "# Update the hovertemplate to include columns only from sets_played_df\n",
    "fig.update_traces(\n",
    "    hovertemplate='Player: %{y}<br>Opponent: %{x}<br>Sets Played: %{z}<br>')\n",
    "\n",
    "fig.show()"
   ]
  },
  {
   "cell_type": "code",
   "execution_count": 9,
   "metadata": {},
   "outputs": [
    {
     "name": "stderr",
     "output_type": "stream",
     "text": [
      "C:\\Users\\eyas1\\AppData\\Local\\Temp\\ipykernel_19612\\3464082793.py:34: FutureWarning:\n",
      "\n",
      "DataFrame.applymap has been deprecated. Use DataFrame.map instead.\n",
      "\n"
     ]
    },
    {
     "data": {
      "application/vnd.plotly.v1+json": {
       "config": {
        "plotlyServerURL": "https://plot.ly"
       },
       "data": [
        {
         "coloraxis": "coloraxis",
         "customdata": [
          [
           "N/A",
           "+3",
           "+1",
           "+4",
           "+6",
           -3,
           "+1",
           "+3",
           "+2",
           "+1",
           "+2",
           "+1",
           "+2",
           "+1",
           "+4",
           0,
           "+1",
           "+1",
           0,
           "+1",
           0,
           "+1",
           "+1"
          ],
          [
           -3,
           "N/A",
           "+4",
           "+4",
           0,
           "+4",
           0,
           "+1",
           -1,
           "+1",
           "+2",
           "+3",
           "+1",
           "+1",
           "+5",
           "+1",
           "+1",
           0,
           "+1",
           0,
           "+3",
           0,
           "+1"
          ],
          [
           -1,
           -4,
           "N/A",
           -4,
           "+4",
           "+1",
           "+1",
           "+5",
           "+3",
           "+5",
           "+1",
           "+4",
           "+1",
           0,
           "+1",
           "+1",
           "+1",
           0,
           "+1",
           "+2",
           "+1",
           0,
           "+2"
          ],
          [
           -4,
           -4,
           "+4",
           "N/A",
           -2,
           "+1",
           0,
           "+2",
           "+1",
           "+5",
           0,
           "+1",
           "+1",
           0,
           "+1",
           "+1",
           "+1",
           "+2",
           "+1",
           "+3",
           "+2",
           "+1",
           "+2"
          ],
          [
           -6,
           0,
           -4,
           "+2",
           "N/A",
           0,
           -1,
           0,
           "+3",
           "+1",
           "+3",
           "+3",
           "+2",
           0,
           "+1",
           "+3",
           "+1",
           "+1",
           "+1",
           "+3",
           "+3",
           0,
           "+1"
          ],
          [
           "+3",
           -4,
           -1,
           -1,
           0,
           "N/A",
           "+2",
           0,
           0,
           "+1",
           "+1",
           "+2",
           0,
           0,
           "+1",
           0,
           0,
           "+1",
           0,
           0,
           "+2",
           "+1",
           0
          ],
          [
           -1,
           0,
           -1,
           0,
           "+1",
           -2,
           "N/A",
           0,
           0,
           0,
           "+1",
           "+1",
           0,
           0,
           "+1",
           0,
           "+1",
           0,
           0,
           0,
           "+1",
           0,
           "+1"
          ],
          [
           -3,
           -1,
           -5,
           -2,
           0,
           0,
           0,
           "N/A",
           "+4",
           "+2",
           -1,
           "+1",
           0,
           0,
           0,
           "+1",
           0,
           0,
           "+1",
           0,
           "+2",
           "+1",
           "+2"
          ],
          [
           -2,
           "+1",
           -3,
           -1,
           -3,
           0,
           0,
           -4,
           "N/A",
           -2,
           -2,
           "+2",
           0,
           "+2",
           "+4",
           "+3",
           0,
           "+1",
           "+1",
           0,
           "+7",
           "+1",
           "+4"
          ],
          [
           -1,
           -1,
           -5,
           -5,
           -1,
           -1,
           0,
           -2,
           "+2",
           "N/A",
           "+1",
           "+1",
           "+2",
           "+2",
           "+3",
           "+2",
           0,
           "+1",
           0,
           "+1",
           "+3",
           0,
           "+5"
          ],
          [
           -2,
           -2,
           -1,
           0,
           -3,
           -1,
           -1,
           "+1",
           "+2",
           -1,
           "N/A",
           -1,
           0,
           0,
           0,
           0,
           0,
           "+2",
           "+1",
           "+1",
           -1,
           0,
           0
          ],
          [
           -1,
           -3,
           -4,
           -1,
           -3,
           -2,
           -1,
           -1,
           -2,
           -1,
           "+1",
           "N/A",
           0,
           0,
           "+2",
           0,
           0,
           0,
           0,
           "+1",
           "+4",
           0,
           "+2"
          ],
          [
           -2,
           -1,
           -1,
           -1,
           -2,
           0,
           0,
           0,
           0,
           -2,
           0,
           0,
           "N/A",
           0,
           "+2",
           0,
           0,
           "+1",
           0,
           "+1",
           "+1",
           "+1",
           0
          ],
          [
           -1,
           -1,
           0,
           0,
           0,
           0,
           0,
           0,
           -2,
           -2,
           0,
           0,
           0,
           "N/A",
           "+1",
           0,
           0,
           -1,
           "+1",
           0,
           "+1",
           0,
           "+1"
          ],
          [
           -4,
           -5,
           -1,
           -1,
           -1,
           -1,
           -1,
           0,
           -4,
           -3,
           0,
           -2,
           -2,
           -1,
           "N/A",
           "+1",
           0,
           0,
           0,
           0,
           0,
           "+1",
           "+3"
          ],
          [
           0,
           -1,
           -1,
           -1,
           -3,
           0,
           0,
           -1,
           -3,
           -2,
           0,
           0,
           0,
           0,
           -1,
           "N/A",
           -1,
           0,
           "+1",
           0,
           "+1",
           "+1",
           "+1"
          ],
          [
           -1,
           -1,
           -1,
           -1,
           -1,
           0,
           -1,
           0,
           0,
           0,
           0,
           0,
           0,
           0,
           0,
           "+1",
           "N/A",
           0,
           "+1",
           0,
           0,
           0,
           "+1"
          ],
          [
           -1,
           0,
           0,
           -2,
           -1,
           -1,
           0,
           0,
           -1,
           -1,
           -2,
           0,
           -1,
           "+1",
           0,
           0,
           0,
           "N/A",
           0,
           "+2",
           0,
           0,
           "+1"
          ],
          [
           0,
           -1,
           -1,
           -1,
           -1,
           0,
           0,
           -1,
           -1,
           0,
           -1,
           0,
           0,
           -1,
           0,
           -1,
           -1,
           0,
           "N/A",
           "+1",
           0,
           0,
           0
          ],
          [
           -1,
           0,
           -2,
           -3,
           -3,
           0,
           0,
           0,
           0,
           -1,
           -1,
           -1,
           -1,
           0,
           0,
           0,
           0,
           -2,
           -1,
           "N/A",
           "+1",
           0,
           "+2"
          ],
          [
           0,
           -3,
           -1,
           -2,
           -3,
           -2,
           -1,
           -2,
           -7,
           -3,
           "+1",
           -4,
           -1,
           -1,
           0,
           -1,
           0,
           0,
           0,
           -1,
           "N/A",
           0,
           "+1"
          ],
          [
           -1,
           0,
           0,
           -1,
           0,
           -1,
           0,
           -1,
           -1,
           0,
           0,
           0,
           -1,
           0,
           -1,
           -1,
           0,
           0,
           0,
           0,
           0,
           "N/A",
           0
          ],
          [
           -1,
           -1,
           -2,
           -2,
           -1,
           0,
           -1,
           -2,
           -4,
           -5,
           0,
           -2,
           0,
           -1,
           -3,
           -1,
           -1,
           -1,
           0,
           -2,
           -1,
           0,
           "N/A"
          ]
         ],
         "hovertemplate": "Player: %{y}<br>Opponent: %{x}<br>Set Differental: %{customdata}<br>",
         "name": "0",
         "type": "heatmap",
         "x": [
          "Samurai",
          "Eyas",
          "Sophist",
          "Kaiju",
          "ICHIGO",
          "CHICO",
          "Pidgeon",
          "Shinta",
          "TheDood22",
          "Cal",
          "mjmd",
          "bellyache",
          "DrMichaelBay",
          "Frog Lady",
          "Thumbs",
          "Payday",
          "The_Verminator",
          "Zxtra",
          "Lv.3 Asian",
          "Rainstorm",
          "goober",
          "TDollas",
          "Helix"
         ],
         "xaxis": "x",
         "y": [
          "Samurai",
          "Eyas",
          "Sophist",
          "Kaiju",
          "ICHIGO",
          "CHICO",
          "Pidgeon",
          "Shinta",
          "TheDood22",
          "Cal",
          "mjmd",
          "bellyache",
          "DrMichaelBay",
          "Frog Lady",
          "Thumbs",
          "Payday",
          "The_Verminator",
          "Zxtra",
          "Lv.3 Asian",
          "Rainstorm",
          "goober",
          "TDollas",
          "Helix"
         ],
         "yaxis": "y",
         "z": [
          [
           null,
           3,
           1,
           4,
           6,
           -3,
           1,
           3,
           2,
           1,
           2,
           1,
           2,
           1,
           4,
           0,
           1,
           1,
           0,
           1,
           0,
           1,
           1
          ],
          [
           -3,
           null,
           4,
           4,
           0,
           4,
           0,
           1,
           -1,
           1,
           2,
           3,
           1,
           1,
           5,
           1,
           1,
           0,
           1,
           0,
           3,
           0,
           1
          ],
          [
           -1,
           -4,
           null,
           -4,
           4,
           1,
           1,
           5,
           3,
           5,
           1,
           4,
           1,
           0,
           1,
           1,
           1,
           0,
           1,
           2,
           1,
           0,
           2
          ],
          [
           -4,
           -4,
           4,
           null,
           -2,
           1,
           0,
           2,
           1,
           5,
           0,
           1,
           1,
           0,
           1,
           1,
           1,
           2,
           1,
           3,
           2,
           1,
           2
          ],
          [
           -6,
           0,
           -4,
           2,
           null,
           0,
           -1,
           0,
           3,
           1,
           3,
           3,
           2,
           0,
           1,
           3,
           1,
           1,
           1,
           3,
           3,
           0,
           1
          ],
          [
           3,
           -4,
           -1,
           -1,
           0,
           null,
           2,
           0,
           0,
           1,
           1,
           2,
           0,
           0,
           1,
           0,
           0,
           1,
           0,
           0,
           2,
           1,
           0
          ],
          [
           -1,
           0,
           -1,
           0,
           1,
           -2,
           null,
           0,
           0,
           0,
           1,
           1,
           0,
           0,
           1,
           0,
           1,
           0,
           0,
           0,
           1,
           0,
           1
          ],
          [
           -3,
           -1,
           -5,
           -2,
           0,
           0,
           0,
           null,
           4,
           2,
           -1,
           1,
           0,
           0,
           0,
           1,
           0,
           0,
           1,
           0,
           2,
           1,
           2
          ],
          [
           -2,
           1,
           -3,
           -1,
           -3,
           0,
           0,
           -4,
           null,
           -2,
           -2,
           2,
           0,
           2,
           4,
           3,
           0,
           1,
           1,
           0,
           7,
           1,
           4
          ],
          [
           -1,
           -1,
           -5,
           -5,
           -1,
           -1,
           0,
           -2,
           2,
           null,
           1,
           1,
           2,
           2,
           3,
           2,
           0,
           1,
           0,
           1,
           3,
           0,
           5
          ],
          [
           -2,
           -2,
           -1,
           0,
           -3,
           -1,
           -1,
           1,
           2,
           -1,
           null,
           -1,
           0,
           0,
           0,
           0,
           0,
           2,
           1,
           1,
           -1,
           0,
           0
          ],
          [
           -1,
           -3,
           -4,
           -1,
           -3,
           -2,
           -1,
           -1,
           -2,
           -1,
           1,
           null,
           0,
           0,
           2,
           0,
           0,
           0,
           0,
           1,
           4,
           0,
           2
          ],
          [
           -2,
           -1,
           -1,
           -1,
           -2,
           0,
           0,
           0,
           0,
           -2,
           0,
           0,
           null,
           0,
           2,
           0,
           0,
           1,
           0,
           1,
           1,
           1,
           0
          ],
          [
           -1,
           -1,
           0,
           0,
           0,
           0,
           0,
           0,
           -2,
           -2,
           0,
           0,
           0,
           null,
           1,
           0,
           0,
           -1,
           1,
           0,
           1,
           0,
           1
          ],
          [
           -4,
           -5,
           -1,
           -1,
           -1,
           -1,
           -1,
           0,
           -4,
           -3,
           0,
           -2,
           -2,
           -1,
           null,
           1,
           0,
           0,
           0,
           0,
           0,
           1,
           3
          ],
          [
           0,
           -1,
           -1,
           -1,
           -3,
           0,
           0,
           -1,
           -3,
           -2,
           0,
           0,
           0,
           0,
           -1,
           null,
           -1,
           0,
           1,
           0,
           1,
           1,
           1
          ],
          [
           -1,
           -1,
           -1,
           -1,
           -1,
           0,
           -1,
           0,
           0,
           0,
           0,
           0,
           0,
           0,
           0,
           1,
           null,
           0,
           1,
           0,
           0,
           0,
           1
          ],
          [
           -1,
           0,
           0,
           -2,
           -1,
           -1,
           0,
           0,
           -1,
           -1,
           -2,
           0,
           -1,
           1,
           0,
           0,
           0,
           null,
           0,
           2,
           0,
           0,
           1
          ],
          [
           0,
           -1,
           -1,
           -1,
           -1,
           0,
           0,
           -1,
           -1,
           0,
           -1,
           0,
           0,
           -1,
           0,
           -1,
           -1,
           0,
           null,
           1,
           0,
           0,
           0
          ],
          [
           -1,
           0,
           -2,
           -3,
           -3,
           0,
           0,
           0,
           0,
           -1,
           -1,
           -1,
           -1,
           0,
           0,
           0,
           0,
           -2,
           -1,
           null,
           1,
           0,
           2
          ],
          [
           0,
           -3,
           -1,
           -2,
           -3,
           -2,
           -1,
           -2,
           -7,
           -3,
           1,
           -4,
           -1,
           -1,
           0,
           -1,
           0,
           0,
           0,
           -1,
           null,
           0,
           1
          ],
          [
           -1,
           0,
           0,
           -1,
           0,
           -1,
           0,
           -1,
           -1,
           0,
           0,
           0,
           -1,
           0,
           -1,
           -1,
           0,
           0,
           0,
           0,
           0,
           null,
           0
          ],
          [
           -1,
           -1,
           -2,
           -2,
           -1,
           0,
           -1,
           -2,
           -4,
           -5,
           0,
           -2,
           0,
           -1,
           -3,
           -1,
           -1,
           -1,
           0,
           -2,
           -1,
           0,
           null
          ]
         ]
        }
       ],
       "layout": {
        "coloraxis": {
         "colorscale": [
          [
           0,
           "rgb(5,48,97)"
          ],
          [
           0.1,
           "rgb(33,102,172)"
          ],
          [
           0.2,
           "rgb(67,147,195)"
          ],
          [
           0.3,
           "rgb(146,197,222)"
          ],
          [
           0.4,
           "rgb(209,229,240)"
          ],
          [
           0.5,
           "rgb(247,247,247)"
          ],
          [
           0.6,
           "rgb(253,219,199)"
          ],
          [
           0.7,
           "rgb(244,165,130)"
          ],
          [
           0.8,
           "rgb(214,96,77)"
          ],
          [
           0.9,
           "rgb(178,24,43)"
          ],
          [
           1,
           "rgb(103,0,31)"
          ]
         ]
        },
        "height": 800,
        "margin": {
         "t": 60
        },
        "template": {
         "data": {
          "bar": [
           {
            "error_x": {
             "color": "#f2f5fa"
            },
            "error_y": {
             "color": "#f2f5fa"
            },
            "marker": {
             "line": {
              "color": "rgb(17,17,17)",
              "width": 0.5
             },
             "pattern": {
              "fillmode": "overlay",
              "size": 10,
              "solidity": 0.2
             }
            },
            "type": "bar"
           }
          ],
          "barpolar": [
           {
            "marker": {
             "line": {
              "color": "rgb(17,17,17)",
              "width": 0.5
             },
             "pattern": {
              "fillmode": "overlay",
              "size": 10,
              "solidity": 0.2
             }
            },
            "type": "barpolar"
           }
          ],
          "carpet": [
           {
            "aaxis": {
             "endlinecolor": "#A2B1C6",
             "gridcolor": "#506784",
             "linecolor": "#506784",
             "minorgridcolor": "#506784",
             "startlinecolor": "#A2B1C6"
            },
            "baxis": {
             "endlinecolor": "#A2B1C6",
             "gridcolor": "#506784",
             "linecolor": "#506784",
             "minorgridcolor": "#506784",
             "startlinecolor": "#A2B1C6"
            },
            "type": "carpet"
           }
          ],
          "choropleth": [
           {
            "colorbar": {
             "outlinewidth": 0,
             "ticks": ""
            },
            "type": "choropleth"
           }
          ],
          "contour": [
           {
            "colorbar": {
             "outlinewidth": 0,
             "ticks": ""
            },
            "colorscale": [
             [
              0,
              "#0d0887"
             ],
             [
              0.1111111111111111,
              "#46039f"
             ],
             [
              0.2222222222222222,
              "#7201a8"
             ],
             [
              0.3333333333333333,
              "#9c179e"
             ],
             [
              0.4444444444444444,
              "#bd3786"
             ],
             [
              0.5555555555555556,
              "#d8576b"
             ],
             [
              0.6666666666666666,
              "#ed7953"
             ],
             [
              0.7777777777777778,
              "#fb9f3a"
             ],
             [
              0.8888888888888888,
              "#fdca26"
             ],
             [
              1,
              "#f0f921"
             ]
            ],
            "type": "contour"
           }
          ],
          "contourcarpet": [
           {
            "colorbar": {
             "outlinewidth": 0,
             "ticks": ""
            },
            "type": "contourcarpet"
           }
          ],
          "heatmap": [
           {
            "colorbar": {
             "outlinewidth": 0,
             "ticks": ""
            },
            "colorscale": [
             [
              0,
              "#0d0887"
             ],
             [
              0.1111111111111111,
              "#46039f"
             ],
             [
              0.2222222222222222,
              "#7201a8"
             ],
             [
              0.3333333333333333,
              "#9c179e"
             ],
             [
              0.4444444444444444,
              "#bd3786"
             ],
             [
              0.5555555555555556,
              "#d8576b"
             ],
             [
              0.6666666666666666,
              "#ed7953"
             ],
             [
              0.7777777777777778,
              "#fb9f3a"
             ],
             [
              0.8888888888888888,
              "#fdca26"
             ],
             [
              1,
              "#f0f921"
             ]
            ],
            "type": "heatmap"
           }
          ],
          "heatmapgl": [
           {
            "colorbar": {
             "outlinewidth": 0,
             "ticks": ""
            },
            "colorscale": [
             [
              0,
              "#0d0887"
             ],
             [
              0.1111111111111111,
              "#46039f"
             ],
             [
              0.2222222222222222,
              "#7201a8"
             ],
             [
              0.3333333333333333,
              "#9c179e"
             ],
             [
              0.4444444444444444,
              "#bd3786"
             ],
             [
              0.5555555555555556,
              "#d8576b"
             ],
             [
              0.6666666666666666,
              "#ed7953"
             ],
             [
              0.7777777777777778,
              "#fb9f3a"
             ],
             [
              0.8888888888888888,
              "#fdca26"
             ],
             [
              1,
              "#f0f921"
             ]
            ],
            "type": "heatmapgl"
           }
          ],
          "histogram": [
           {
            "marker": {
             "pattern": {
              "fillmode": "overlay",
              "size": 10,
              "solidity": 0.2
             }
            },
            "type": "histogram"
           }
          ],
          "histogram2d": [
           {
            "colorbar": {
             "outlinewidth": 0,
             "ticks": ""
            },
            "colorscale": [
             [
              0,
              "#0d0887"
             ],
             [
              0.1111111111111111,
              "#46039f"
             ],
             [
              0.2222222222222222,
              "#7201a8"
             ],
             [
              0.3333333333333333,
              "#9c179e"
             ],
             [
              0.4444444444444444,
              "#bd3786"
             ],
             [
              0.5555555555555556,
              "#d8576b"
             ],
             [
              0.6666666666666666,
              "#ed7953"
             ],
             [
              0.7777777777777778,
              "#fb9f3a"
             ],
             [
              0.8888888888888888,
              "#fdca26"
             ],
             [
              1,
              "#f0f921"
             ]
            ],
            "type": "histogram2d"
           }
          ],
          "histogram2dcontour": [
           {
            "colorbar": {
             "outlinewidth": 0,
             "ticks": ""
            },
            "colorscale": [
             [
              0,
              "#0d0887"
             ],
             [
              0.1111111111111111,
              "#46039f"
             ],
             [
              0.2222222222222222,
              "#7201a8"
             ],
             [
              0.3333333333333333,
              "#9c179e"
             ],
             [
              0.4444444444444444,
              "#bd3786"
             ],
             [
              0.5555555555555556,
              "#d8576b"
             ],
             [
              0.6666666666666666,
              "#ed7953"
             ],
             [
              0.7777777777777778,
              "#fb9f3a"
             ],
             [
              0.8888888888888888,
              "#fdca26"
             ],
             [
              1,
              "#f0f921"
             ]
            ],
            "type": "histogram2dcontour"
           }
          ],
          "mesh3d": [
           {
            "colorbar": {
             "outlinewidth": 0,
             "ticks": ""
            },
            "type": "mesh3d"
           }
          ],
          "parcoords": [
           {
            "line": {
             "colorbar": {
              "outlinewidth": 0,
              "ticks": ""
             }
            },
            "type": "parcoords"
           }
          ],
          "pie": [
           {
            "automargin": true,
            "type": "pie"
           }
          ],
          "scatter": [
           {
            "marker": {
             "line": {
              "color": "#283442"
             }
            },
            "type": "scatter"
           }
          ],
          "scatter3d": [
           {
            "line": {
             "colorbar": {
              "outlinewidth": 0,
              "ticks": ""
             }
            },
            "marker": {
             "colorbar": {
              "outlinewidth": 0,
              "ticks": ""
             }
            },
            "type": "scatter3d"
           }
          ],
          "scattercarpet": [
           {
            "marker": {
             "colorbar": {
              "outlinewidth": 0,
              "ticks": ""
             }
            },
            "type": "scattercarpet"
           }
          ],
          "scattergeo": [
           {
            "marker": {
             "colorbar": {
              "outlinewidth": 0,
              "ticks": ""
             }
            },
            "type": "scattergeo"
           }
          ],
          "scattergl": [
           {
            "marker": {
             "line": {
              "color": "#283442"
             }
            },
            "type": "scattergl"
           }
          ],
          "scattermapbox": [
           {
            "marker": {
             "colorbar": {
              "outlinewidth": 0,
              "ticks": ""
             }
            },
            "type": "scattermapbox"
           }
          ],
          "scatterpolar": [
           {
            "marker": {
             "colorbar": {
              "outlinewidth": 0,
              "ticks": ""
             }
            },
            "type": "scatterpolar"
           }
          ],
          "scatterpolargl": [
           {
            "marker": {
             "colorbar": {
              "outlinewidth": 0,
              "ticks": ""
             }
            },
            "type": "scatterpolargl"
           }
          ],
          "scatterternary": [
           {
            "marker": {
             "colorbar": {
              "outlinewidth": 0,
              "ticks": ""
             }
            },
            "type": "scatterternary"
           }
          ],
          "surface": [
           {
            "colorbar": {
             "outlinewidth": 0,
             "ticks": ""
            },
            "colorscale": [
             [
              0,
              "#0d0887"
             ],
             [
              0.1111111111111111,
              "#46039f"
             ],
             [
              0.2222222222222222,
              "#7201a8"
             ],
             [
              0.3333333333333333,
              "#9c179e"
             ],
             [
              0.4444444444444444,
              "#bd3786"
             ],
             [
              0.5555555555555556,
              "#d8576b"
             ],
             [
              0.6666666666666666,
              "#ed7953"
             ],
             [
              0.7777777777777778,
              "#fb9f3a"
             ],
             [
              0.8888888888888888,
              "#fdca26"
             ],
             [
              1,
              "#f0f921"
             ]
            ],
            "type": "surface"
           }
          ],
          "table": [
           {
            "cells": {
             "fill": {
              "color": "#506784"
             },
             "line": {
              "color": "rgb(17,17,17)"
             }
            },
            "header": {
             "fill": {
              "color": "#2a3f5f"
             },
             "line": {
              "color": "rgb(17,17,17)"
             }
            },
            "type": "table"
           }
          ]
         },
         "layout": {
          "annotationdefaults": {
           "arrowcolor": "#f2f5fa",
           "arrowhead": 0,
           "arrowwidth": 1
          },
          "autotypenumbers": "strict",
          "coloraxis": {
           "colorbar": {
            "outlinewidth": 0,
            "ticks": ""
           }
          },
          "colorscale": {
           "diverging": [
            [
             0,
             "#8e0152"
            ],
            [
             0.1,
             "#c51b7d"
            ],
            [
             0.2,
             "#de77ae"
            ],
            [
             0.3,
             "#f1b6da"
            ],
            [
             0.4,
             "#fde0ef"
            ],
            [
             0.5,
             "#f7f7f7"
            ],
            [
             0.6,
             "#e6f5d0"
            ],
            [
             0.7,
             "#b8e186"
            ],
            [
             0.8,
             "#7fbc41"
            ],
            [
             0.9,
             "#4d9221"
            ],
            [
             1,
             "#276419"
            ]
           ],
           "sequential": [
            [
             0,
             "#0d0887"
            ],
            [
             0.1111111111111111,
             "#46039f"
            ],
            [
             0.2222222222222222,
             "#7201a8"
            ],
            [
             0.3333333333333333,
             "#9c179e"
            ],
            [
             0.4444444444444444,
             "#bd3786"
            ],
            [
             0.5555555555555556,
             "#d8576b"
            ],
            [
             0.6666666666666666,
             "#ed7953"
            ],
            [
             0.7777777777777778,
             "#fb9f3a"
            ],
            [
             0.8888888888888888,
             "#fdca26"
            ],
            [
             1,
             "#f0f921"
            ]
           ],
           "sequentialminus": [
            [
             0,
             "#0d0887"
            ],
            [
             0.1111111111111111,
             "#46039f"
            ],
            [
             0.2222222222222222,
             "#7201a8"
            ],
            [
             0.3333333333333333,
             "#9c179e"
            ],
            [
             0.4444444444444444,
             "#bd3786"
            ],
            [
             0.5555555555555556,
             "#d8576b"
            ],
            [
             0.6666666666666666,
             "#ed7953"
            ],
            [
             0.7777777777777778,
             "#fb9f3a"
            ],
            [
             0.8888888888888888,
             "#fdca26"
            ],
            [
             1,
             "#f0f921"
            ]
           ]
          },
          "colorway": [
           "#636efa",
           "#EF553B",
           "#00cc96",
           "#ab63fa",
           "#FFA15A",
           "#19d3f3",
           "#FF6692",
           "#B6E880",
           "#FF97FF",
           "#FECB52"
          ],
          "font": {
           "color": "#f2f5fa"
          },
          "geo": {
           "bgcolor": "rgb(17,17,17)",
           "lakecolor": "rgb(17,17,17)",
           "landcolor": "rgb(17,17,17)",
           "showlakes": true,
           "showland": true,
           "subunitcolor": "#506784"
          },
          "hoverlabel": {
           "align": "left"
          },
          "hovermode": "closest",
          "mapbox": {
           "style": "dark"
          },
          "paper_bgcolor": "rgb(17,17,17)",
          "plot_bgcolor": "rgb(17,17,17)",
          "polar": {
           "angularaxis": {
            "gridcolor": "#506784",
            "linecolor": "#506784",
            "ticks": ""
           },
           "bgcolor": "rgb(17,17,17)",
           "radialaxis": {
            "gridcolor": "#506784",
            "linecolor": "#506784",
            "ticks": ""
           }
          },
          "scene": {
           "xaxis": {
            "backgroundcolor": "rgb(17,17,17)",
            "gridcolor": "#506784",
            "gridwidth": 2,
            "linecolor": "#506784",
            "showbackground": true,
            "ticks": "",
            "zerolinecolor": "#C8D4E3"
           },
           "yaxis": {
            "backgroundcolor": "rgb(17,17,17)",
            "gridcolor": "#506784",
            "gridwidth": 2,
            "linecolor": "#506784",
            "showbackground": true,
            "ticks": "",
            "zerolinecolor": "#C8D4E3"
           },
           "zaxis": {
            "backgroundcolor": "rgb(17,17,17)",
            "gridcolor": "#506784",
            "gridwidth": 2,
            "linecolor": "#506784",
            "showbackground": true,
            "ticks": "",
            "zerolinecolor": "#C8D4E3"
           }
          },
          "shapedefaults": {
           "line": {
            "color": "#f2f5fa"
           }
          },
          "sliderdefaults": {
           "bgcolor": "#C8D4E3",
           "bordercolor": "rgb(17,17,17)",
           "borderwidth": 1,
           "tickwidth": 0
          },
          "ternary": {
           "aaxis": {
            "gridcolor": "#506784",
            "linecolor": "#506784",
            "ticks": ""
           },
           "baxis": {
            "gridcolor": "#506784",
            "linecolor": "#506784",
            "ticks": ""
           },
           "bgcolor": "rgb(17,17,17)",
           "caxis": {
            "gridcolor": "#506784",
            "linecolor": "#506784",
            "ticks": ""
           }
          },
          "title": {
           "x": 0.05
          },
          "updatemenudefaults": {
           "bgcolor": "#506784",
           "borderwidth": 0
          },
          "xaxis": {
           "automargin": true,
           "gridcolor": "#283442",
           "linecolor": "#506784",
           "ticks": "",
           "title": {
            "standoff": 15
           },
           "zerolinecolor": "#283442",
           "zerolinewidth": 2
          },
          "yaxis": {
           "automargin": true,
           "gridcolor": "#283442",
           "linecolor": "#506784",
           "ticks": "",
           "title": {
            "standoff": 15
           },
           "zerolinecolor": "#283442",
           "zerolinewidth": 2
          }
         }
        },
        "title": {
         "text": "Cream City Clash Head To Head Heat Map"
        },
        "width": 1000,
        "xaxis": {
         "anchor": "y",
         "domain": [
          0,
          1
         ],
         "side": "top",
         "tickangle": -45,
         "title": {
          "text": "Opponent"
         }
        },
        "yaxis": {
         "anchor": "x",
         "autorange": "reversed",
         "categoryarray": [
          "Samurai",
          "Eyas",
          "Sophist",
          "Kaiju",
          "ICHIGO",
          "CHICO",
          "Pidgeon",
          "Shinta",
          "TheDood22",
          "Cal",
          "mjmd",
          "bellyache",
          "DrMichaelBay",
          "Frog Lady",
          "Thumbs",
          "Payday",
          "The_Verminator",
          "Zxtra",
          "Lv.3 Asian",
          "Rainstorm",
          "goober",
          "TDollas",
          "Helix"
         ],
         "categoryorder": "array",
         "domain": [
          0,
          1
         ],
         "title": {
          "text": "Player"
         }
        }
       }
      }
     },
     "metadata": {},
     "output_type": "display_data"
    }
   ],
   "source": [
    "import plotly.express as px\n",
    "import pandas as pd\n",
    "import numpy as np \n",
    "\n",
    "# Read data from the main CSV file (Heatmap Data)\n",
    "wl_file_path = \"C:\\\\Users\\\\eyas1\\\\OneDrive\\\\Desktop\\\\UWM fall 2023 Smash Data\\\\REAL Cream City Clash Fall 2023 H2H Data.csv\"\n",
    "wl_df = pd.read_csv(wl_file_path, index_col=0, header=0)  # Assuming the first row contains column names and index column is named\n",
    "\n",
    "# Transpose the DataFrame to switch rows and columns\n",
    "wl_df_transposed = wl_df.T\n",
    "\n",
    "# Create a heatmap using Plotly Express\n",
    "fig = px.imshow(wl_df, color_continuous_scale='RdBu_r', aspect='auto')\n",
    "\n",
    "# Get the list of player names in the order you want them to appear\n",
    "players = wl_df_transposed.index.tolist()\n",
    "\n",
    "# Customize the layout and display the plot\n",
    "fig.update_layout(\n",
    "    title='Cream City Clash Head To Head Heat Map',\n",
    "    xaxis_title='Opponent',\n",
    "    yaxis_title='Player',\n",
    "    yaxis={'categoryorder':'array', 'categoryarray':players},  # Set category order to display Y-axis labels from the top\n",
    "    xaxis_side='top',  # Move X-axis labels to the top\n",
    "    xaxis_tickangle=-45,  # Rotate X-axis labels by 45 degrees counterclockwise\n",
    "    template='plotly_dark',\n",
    "    width=1000,  # Set the desired width\n",
    "    height=800,  # Set the desired height\n",
    ")\n",
    "\n",
    "# Update the hovertemplate to include columns only from sets_played_df\n",
    "fig.update_traces(\n",
    "    hovertemplate='Player: %{y}<br>Opponent: %{x}<br>Set Differental: %{customdata}<br>',\n",
    "    customdata=wl_df.applymap(lambda x: f'+{round(x)}' if np.isfinite(x) and x > 0 else round(x) if np.isfinite(x) else 'N/A').values\n",
    ")\n",
    "\n",
    "# Show the plot\n",
    "fig.show()\n"
   ]
  }
 ],
 "metadata": {
  "kernelspec": {
   "display_name": "base",
   "language": "python",
   "name": "python3"
  },
  "language_info": {
   "codemirror_mode": {
    "name": "ipython",
    "version": 3
   },
   "file_extension": ".py",
   "mimetype": "text/x-python",
   "name": "python",
   "nbconvert_exporter": "python",
   "pygments_lexer": "ipython3",
   "version": "3.11.5"
  }
 },
 "nbformat": 4,
 "nbformat_minor": 2
}
